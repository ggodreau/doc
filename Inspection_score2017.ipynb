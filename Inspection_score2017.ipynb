{
 "cells": [
  {
   "cell_type": "code",
   "execution_count": 1,
   "metadata": {},
   "outputs": [],
   "source": [
    "import pandas as pd\n",
    "import numpy as np\n",
    "import matplotlib.pyplot as plt"
   ]
  },
  {
   "cell_type": "code",
   "execution_count": 2,
   "metadata": {},
   "outputs": [
    {
     "data": {
      "text/html": [
       "<div>\n",
       "<style scoped>\n",
       "    .dataframe tbody tr th:only-of-type {\n",
       "        vertical-align: middle;\n",
       "    }\n",
       "\n",
       "    .dataframe tbody tr th {\n",
       "        vertical-align: top;\n",
       "    }\n",
       "\n",
       "    .dataframe thead th {\n",
       "        text-align: right;\n",
       "    }\n",
       "</style>\n",
       "<table border=\"1\" class=\"dataframe\">\n",
       "  <thead>\n",
       "    <tr style=\"text-align: right;\">\n",
       "      <th></th>\n",
       "      <th>Restaurant Name</th>\n",
       "      <th>Zip Code</th>\n",
       "      <th>Inspection Date</th>\n",
       "      <th>Score</th>\n",
       "      <th>Address</th>\n",
       "      <th>Facility ID</th>\n",
       "      <th>Process Description</th>\n",
       "    </tr>\n",
       "  </thead>\n",
       "  <tbody>\n",
       "    <tr>\n",
       "      <th>8983</th>\n",
       "      <td>Graceland Grocery</td>\n",
       "      <td>78736</td>\n",
       "      <td>01/03/2017</td>\n",
       "      <td>97</td>\n",
       "      <td>8600 W US 290 HWY\\nAUSTIN, TX 78736\\n(30.23447...</td>\n",
       "      <td>11444903</td>\n",
       "      <td>Routine Inspection</td>\n",
       "    </tr>\n",
       "    <tr>\n",
       "      <th>8984</th>\n",
       "      <td>House Park Bar-B-Que</td>\n",
       "      <td>78703</td>\n",
       "      <td>01/03/2017</td>\n",
       "      <td>85</td>\n",
       "      <td>900 W 12TH ST\\nAUSTIN, TX 78703\\n(30.276593, -...</td>\n",
       "      <td>2800400</td>\n",
       "      <td>Routine Inspection</td>\n",
       "    </tr>\n",
       "    <tr>\n",
       "      <th>8985</th>\n",
       "      <td>Sa-Ten</td>\n",
       "      <td>78702</td>\n",
       "      <td>01/03/2017</td>\n",
       "      <td>93</td>\n",
       "      <td>916 SPRINGDALE RD Bunit 101\\nAUSTIN, TX 78702\\...</td>\n",
       "      <td>11202021</td>\n",
       "      <td>Routine Inspection</td>\n",
       "    </tr>\n",
       "    <tr>\n",
       "      <th>8986</th>\n",
       "      <td>Amy's Ice Cream</td>\n",
       "      <td>78748</td>\n",
       "      <td>01/03/2017</td>\n",
       "      <td>95</td>\n",
       "      <td>9600 S IH 35 SVRD SB Bunit 400\\nAUSTIN, TX 787...</td>\n",
       "      <td>10014585</td>\n",
       "      <td>Routine Inspection</td>\n",
       "    </tr>\n",
       "    <tr>\n",
       "      <th>8987</th>\n",
       "      <td>Starbuck's Coffee#6203</td>\n",
       "      <td>78759</td>\n",
       "      <td>01/03/2017</td>\n",
       "      <td>99</td>\n",
       "      <td>9722 GREAT HILLS TRL\\nAUSTIN, TX 78759\\n(30.39...</td>\n",
       "      <td>2800798</td>\n",
       "      <td>Routine Inspection</td>\n",
       "    </tr>\n",
       "  </tbody>\n",
       "</table>\n",
       "</div>"
      ],
      "text/plain": [
       "             Restaurant Name Zip Code Inspection Date  Score  \\\n",
       "8983       Graceland Grocery    78736      01/03/2017     97   \n",
       "8984    House Park Bar-B-Que    78703      01/03/2017     85   \n",
       "8985                  Sa-Ten    78702      01/03/2017     93   \n",
       "8986         Amy's Ice Cream    78748      01/03/2017     95   \n",
       "8987  Starbuck's Coffee#6203    78759      01/03/2017     99   \n",
       "\n",
       "                                                Address  Facility ID  \\\n",
       "8983  8600 W US 290 HWY\\nAUSTIN, TX 78736\\n(30.23447...     11444903   \n",
       "8984  900 W 12TH ST\\nAUSTIN, TX 78703\\n(30.276593, -...      2800400   \n",
       "8985  916 SPRINGDALE RD Bunit 101\\nAUSTIN, TX 78702\\...     11202021   \n",
       "8986  9600 S IH 35 SVRD SB Bunit 400\\nAUSTIN, TX 787...     10014585   \n",
       "8987  9722 GREAT HILLS TRL\\nAUSTIN, TX 78759\\n(30.39...      2800798   \n",
       "\n",
       "     Process Description  \n",
       "8983  Routine Inspection  \n",
       "8984  Routine Inspection  \n",
       "8985  Routine Inspection  \n",
       "8986  Routine Inspection  \n",
       "8987  Routine Inspection  "
      ]
     },
     "execution_count": 2,
     "metadata": {},
     "output_type": "execute_result"
    }
   ],
   "source": [
    "#import data from csv file in my daysofcode folder using ../ instead of writing all the paths\n",
    "df = pd.read_csv('./inspection_scores2017.csv')\n",
    "#check the first 5 rows of the dataset\n",
    "df.head()\n",
    "#check the last 5 rows of the dataset\n",
    "df.tail()"
   ]
  },
  {
   "cell_type": "code",
   "execution_count": 3,
   "metadata": {},
   "outputs": [
    {
     "data": {
      "text/plain": [
       "Restaurant Name        object\n",
       "Zip Code               object\n",
       "Inspection Date        object\n",
       "Score                   int64\n",
       "Address                object\n",
       "Facility ID             int64\n",
       "Process Description    object\n",
       "dtype: object"
      ]
     },
     "execution_count": 3,
     "metadata": {},
     "output_type": "execute_result"
    }
   ],
   "source": [
    "#check the data type of each column\n",
    "df.dtypes"
   ]
  },
  {
   "cell_type": "code",
   "execution_count": 4,
   "metadata": {},
   "outputs": [
    {
     "data": {
      "text/html": [
       "<div>\n",
       "<style scoped>\n",
       "    .dataframe tbody tr th:only-of-type {\n",
       "        vertical-align: middle;\n",
       "    }\n",
       "\n",
       "    .dataframe tbody tr th {\n",
       "        vertical-align: top;\n",
       "    }\n",
       "\n",
       "    .dataframe thead th {\n",
       "        text-align: right;\n",
       "    }\n",
       "</style>\n",
       "<table border=\"1\" class=\"dataframe\">\n",
       "  <thead>\n",
       "    <tr style=\"text-align: right;\">\n",
       "      <th></th>\n",
       "      <th>Restaurant Name</th>\n",
       "      <th>Zip Code</th>\n",
       "      <th>Inspection Date</th>\n",
       "      <th>Score</th>\n",
       "      <th>Address</th>\n",
       "    </tr>\n",
       "  </thead>\n",
       "  <tbody>\n",
       "    <tr>\n",
       "      <th>0</th>\n",
       "      <td>MN - Manor Grocery</td>\n",
       "      <td>78653</td>\n",
       "      <td>12/29/2017</td>\n",
       "      <td>93</td>\n",
       "      <td>102 E PARSONS ST\\nMANOR, TX 78653\\n(30.341012,...</td>\n",
       "    </tr>\n",
       "    <tr>\n",
       "      <th>1</th>\n",
       "      <td>LW - Grumpy Grouper</td>\n",
       "      <td>78734</td>\n",
       "      <td>12/29/2017</td>\n",
       "      <td>83</td>\n",
       "      <td>1113 N FM 620 RD\\nLAKEWAY, TX 78734\\n</td>\n",
       "    </tr>\n",
       "    <tr>\n",
       "      <th>2</th>\n",
       "      <td>Hotel Saint Cecilia</td>\n",
       "      <td>78704</td>\n",
       "      <td>12/29/2017</td>\n",
       "      <td>98</td>\n",
       "      <td>112 ACADEMY DR\\nAUSTIN, TX 78704\\n(30.251818, ...</td>\n",
       "    </tr>\n",
       "    <tr>\n",
       "      <th>3</th>\n",
       "      <td>Las Mangonadas</td>\n",
       "      <td>78702</td>\n",
       "      <td>12/29/2017</td>\n",
       "      <td>92</td>\n",
       "      <td>1144 AIRPORT BLVD Unit 180\\nAUSTIN, TX 78702\\n...</td>\n",
       "    </tr>\n",
       "    <tr>\n",
       "      <th>4</th>\n",
       "      <td>MN - Walmart # 3169 Fuel Center</td>\n",
       "      <td>78653</td>\n",
       "      <td>12/29/2017</td>\n",
       "      <td>99</td>\n",
       "      <td>11821 E US 290 HWY EB\\nMANOR, TX 78653\\n</td>\n",
       "    </tr>\n",
       "  </tbody>\n",
       "</table>\n",
       "</div>"
      ],
      "text/plain": [
       "                   Restaurant Name Zip Code Inspection Date  Score  \\\n",
       "0               MN - Manor Grocery    78653      12/29/2017     93   \n",
       "1              LW - Grumpy Grouper    78734      12/29/2017     83   \n",
       "2              Hotel Saint Cecilia    78704      12/29/2017     98   \n",
       "3                   Las Mangonadas    78702      12/29/2017     92   \n",
       "4  MN - Walmart # 3169 Fuel Center    78653      12/29/2017     99   \n",
       "\n",
       "                                             Address  \n",
       "0  102 E PARSONS ST\\nMANOR, TX 78653\\n(30.341012,...  \n",
       "1              1113 N FM 620 RD\\nLAKEWAY, TX 78734\\n  \n",
       "2  112 ACADEMY DR\\nAUSTIN, TX 78704\\n(30.251818, ...  \n",
       "3  1144 AIRPORT BLVD Unit 180\\nAUSTIN, TX 78702\\n...  \n",
       "4           11821 E US 290 HWY EB\\nMANOR, TX 78653\\n  "
      ]
     },
     "execution_count": 4,
     "metadata": {},
     "output_type": "execute_result"
    }
   ],
   "source": [
    "#drop \"Facitily ID, Process Description\" column as unnescessary info\n",
    "df.drop(['Facility ID', 'Process Description'], axis=1, inplace=True)\n",
    "df.head()"
   ]
  },
  {
   "cell_type": "code",
   "execution_count": 5,
   "metadata": {},
   "outputs": [],
   "source": [
    "#rename all columns \n",
    "#df.columns =['DBA_name', 'Zip_code', 'Inspection_date', 'Scores', 'Address']\n",
    "#rename some columns\n",
    "df.rename(columns={'Restaurant Name': 'DBA_name', 'Zip Code': 'Zip_code', 'Inspection Date': 'Inspection_date'},inplace=True)"
   ]
  },
  {
   "cell_type": "code",
   "execution_count": 6,
   "metadata": {},
   "outputs": [
    {
     "data": {
      "text/html": [
       "<div>\n",
       "<style scoped>\n",
       "    .dataframe tbody tr th:only-of-type {\n",
       "        vertical-align: middle;\n",
       "    }\n",
       "\n",
       "    .dataframe tbody tr th {\n",
       "        vertical-align: top;\n",
       "    }\n",
       "\n",
       "    .dataframe thead th {\n",
       "        text-align: right;\n",
       "    }\n",
       "</style>\n",
       "<table border=\"1\" class=\"dataframe\">\n",
       "  <thead>\n",
       "    <tr style=\"text-align: right;\">\n",
       "      <th></th>\n",
       "      <th>DBA_name</th>\n",
       "      <th>Zip_code</th>\n",
       "      <th>Inspection_date</th>\n",
       "      <th>Score</th>\n",
       "      <th>Address</th>\n",
       "    </tr>\n",
       "  </thead>\n",
       "  <tbody>\n",
       "    <tr>\n",
       "      <th>0</th>\n",
       "      <td>MN - Manor Grocery</td>\n",
       "      <td>78653</td>\n",
       "      <td>12/29/2017</td>\n",
       "      <td>93</td>\n",
       "      <td>102 E PARSONS ST\\nMANOR, TX 78653\\n(30.341012,...</td>\n",
       "    </tr>\n",
       "    <tr>\n",
       "      <th>1</th>\n",
       "      <td>LW - Grumpy Grouper</td>\n",
       "      <td>78734</td>\n",
       "      <td>12/29/2017</td>\n",
       "      <td>83</td>\n",
       "      <td>1113 N FM 620 RD\\nLAKEWAY, TX 78734\\n</td>\n",
       "    </tr>\n",
       "    <tr>\n",
       "      <th>2</th>\n",
       "      <td>Hotel Saint Cecilia</td>\n",
       "      <td>78704</td>\n",
       "      <td>12/29/2017</td>\n",
       "      <td>98</td>\n",
       "      <td>112 ACADEMY DR\\nAUSTIN, TX 78704\\n(30.251818, ...</td>\n",
       "    </tr>\n",
       "    <tr>\n",
       "      <th>3</th>\n",
       "      <td>Las Mangonadas</td>\n",
       "      <td>78702</td>\n",
       "      <td>12/29/2017</td>\n",
       "      <td>92</td>\n",
       "      <td>1144 AIRPORT BLVD Unit 180\\nAUSTIN, TX 78702\\n...</td>\n",
       "    </tr>\n",
       "    <tr>\n",
       "      <th>4</th>\n",
       "      <td>MN - Walmart # 3169 Fuel Center</td>\n",
       "      <td>78653</td>\n",
       "      <td>12/29/2017</td>\n",
       "      <td>99</td>\n",
       "      <td>11821 E US 290 HWY EB\\nMANOR, TX 78653\\n</td>\n",
       "    </tr>\n",
       "  </tbody>\n",
       "</table>\n",
       "</div>"
      ],
      "text/plain": [
       "                          DBA_name Zip_code Inspection_date  Score  \\\n",
       "0               MN - Manor Grocery    78653      12/29/2017     93   \n",
       "1              LW - Grumpy Grouper    78734      12/29/2017     83   \n",
       "2              Hotel Saint Cecilia    78704      12/29/2017     98   \n",
       "3                   Las Mangonadas    78702      12/29/2017     92   \n",
       "4  MN - Walmart # 3169 Fuel Center    78653      12/29/2017     99   \n",
       "\n",
       "                                             Address  \n",
       "0  102 E PARSONS ST\\nMANOR, TX 78653\\n(30.341012,...  \n",
       "1              1113 N FM 620 RD\\nLAKEWAY, TX 78734\\n  \n",
       "2  112 ACADEMY DR\\nAUSTIN, TX 78704\\n(30.251818, ...  \n",
       "3  1144 AIRPORT BLVD Unit 180\\nAUSTIN, TX 78702\\n...  \n",
       "4           11821 E US 290 HWY EB\\nMANOR, TX 78653\\n  "
      ]
     },
     "execution_count": 6,
     "metadata": {},
     "output_type": "execute_result"
    }
   ],
   "source": [
    "df.head()"
   ]
  },
  {
   "cell_type": "code",
   "execution_count": 7,
   "metadata": {},
   "outputs": [
    {
     "data": {
      "text/plain": [
       "78701                          595\n",
       "78704                          586\n",
       "78745                          503\n",
       "78758                          470\n",
       "78753                          454\n",
       "78702                          415\n",
       "78759                          392\n",
       "78705                          371\n",
       "78757                          342\n",
       "78741                          284\n",
       "78723                          266\n",
       "78746                          265\n",
       "78744                          264\n",
       "78748                          252\n",
       "78749                          247\n",
       "78703                          198\n",
       "78752                          194\n",
       "78738                          179\n",
       "78729                          174\n",
       "78727                          172\n",
       "78751                          168\n",
       "78734                          165\n",
       "78750                          161\n",
       "78756                          142\n",
       "78653                          135\n",
       "78660                          128\n",
       "78731                          120\n",
       "78717                          119\n",
       "78735                          118\n",
       "78617                          112\n",
       "78722                          103\n",
       "78754                          102\n",
       "78728                          101\n",
       "78726                          100\n",
       "78732                           79\n",
       "78613                           71\n",
       "78724                           69\n",
       "78719                           56\n",
       "78721                           51\n",
       "78669                           47\n",
       "78747                           31\n",
       "78736                           30\n",
       "78725                           28\n",
       "78737                           27\n",
       "78730                           26\n",
       "78652                           17\n",
       "78733                           12\n",
       "78739                           12\n",
       "78641                            8\n",
       "78742                            6\n",
       "78620                            4\n",
       "78654                            3\n",
       "as 78653                         3\n",
       "6\\nAustin, TX  78741             2\n",
       "Hwy 290 E\\nAustin TX  78723      2\n",
       "78610                            2\n",
       "78615                            2\n",
       "78621                            2\n",
       "as 78669                         1\n",
       "Name: Zip_code, dtype: int64"
      ]
     },
     "execution_count": 7,
     "metadata": {},
     "output_type": "execute_result"
    }
   ],
   "source": [
    "#to get distribution of values\n",
    "df.Zip_code.value_counts()"
   ]
  },
  {
   "cell_type": "code",
   "execution_count": 8,
   "metadata": {},
   "outputs": [],
   "source": [
    "#there are some rows that contained wrong zipcode info\n",
    "#replace bad zip code with the correct one\n",
    "df['Zip_code'].replace(to_replace=['Hwy 290 E\\nAustin TX  78723'], value='78723', inplace=True)"
   ]
  },
  {
   "cell_type": "code",
   "execution_count": 9,
   "metadata": {},
   "outputs": [],
   "source": [
    "df['Zip_code'].replace(to_replace=['6\\nAustin, TX  78741'], value='78741', inplace=True)"
   ]
  },
  {
   "cell_type": "code",
   "execution_count": 10,
   "metadata": {},
   "outputs": [],
   "source": [
    "df['Zip_code'].replace(to_replace=['as 78653'], value='78753', inplace=True)"
   ]
  },
  {
   "cell_type": "code",
   "execution_count": 11,
   "metadata": {},
   "outputs": [],
   "source": [
    "df['Zip_code'].replace(to_replace=['as 78669'], value='78669', inplace=True)"
   ]
  },
  {
   "cell_type": "code",
   "execution_count": 12,
   "metadata": {},
   "outputs": [
    {
     "data": {
      "text/plain": [
       "78701    595\n",
       "78704    586\n",
       "78745    503\n",
       "78758    470\n",
       "78753    457\n",
       "78702    415\n",
       "78759    392\n",
       "78705    371\n",
       "78757    342\n",
       "78741    286\n",
       "78723    268\n",
       "78746    265\n",
       "78744    264\n",
       "78748    252\n",
       "78749    247\n",
       "78703    198\n",
       "78752    194\n",
       "78738    179\n",
       "78729    174\n",
       "78727    172\n",
       "78751    168\n",
       "78734    165\n",
       "78750    161\n",
       "78756    142\n",
       "78653    135\n",
       "78660    128\n",
       "78731    120\n",
       "78717    119\n",
       "78735    118\n",
       "78617    112\n",
       "78722    103\n",
       "78754    102\n",
       "78728    101\n",
       "78726    100\n",
       "78732     79\n",
       "78613     71\n",
       "78724     69\n",
       "78719     56\n",
       "78721     51\n",
       "78669     48\n",
       "78747     31\n",
       "78736     30\n",
       "78725     28\n",
       "78737     27\n",
       "78730     26\n",
       "78652     17\n",
       "78739     12\n",
       "78733     12\n",
       "78641      8\n",
       "78742      6\n",
       "78620      4\n",
       "78654      3\n",
       "78615      2\n",
       "78621      2\n",
       "78610      2\n",
       "Name: Zip_code, dtype: int64"
      ]
     },
     "execution_count": 12,
     "metadata": {},
     "output_type": "execute_result"
    }
   ],
   "source": [
    "#now all zip codes are correct\n",
    "df.Zip_code.value_counts()"
   ]
  },
  {
   "cell_type": "code",
   "execution_count": 13,
   "metadata": {},
   "outputs": [
    {
     "name": "stdout",
     "output_type": "stream",
     "text": [
      "DBA_name           object\n",
      "Zip_code            int64\n",
      "Inspection_date    object\n",
      "Score               int64\n",
      "Address            object\n",
      "dtype: object\n"
     ]
    }
   ],
   "source": [
    "#change \"object\" type in Zip_code to \"numeric\"\n",
    "df['Zip_code']=pd.to_numeric(df['Zip_code'])\n",
    "print(df.dtypes)"
   ]
  },
  {
   "cell_type": "code",
   "execution_count": 14,
   "metadata": {},
   "outputs": [
    {
     "name": "stdout",
     "output_type": "stream",
     "text": [
      "DBA_name                   object\n",
      "Zip_code                    int64\n",
      "Inspection_date    datetime64[ns]\n",
      "Score                       int64\n",
      "Address                    object\n",
      "dtype: object\n"
     ]
    }
   ],
   "source": [
    "#change \"object\" type in Inspection date to \"datetime\"\n",
    "df['Inspection_date']=pd.to_datetime(df['Inspection_date'])\n",
    "print(df.dtypes)"
   ]
  },
  {
   "cell_type": "code",
   "execution_count": 15,
   "metadata": {},
   "outputs": [
    {
     "data": {
      "text/html": [
       "<div>\n",
       "<style scoped>\n",
       "    .dataframe tbody tr th:only-of-type {\n",
       "        vertical-align: middle;\n",
       "    }\n",
       "\n",
       "    .dataframe tbody tr th {\n",
       "        vertical-align: top;\n",
       "    }\n",
       "\n",
       "    .dataframe thead th {\n",
       "        text-align: right;\n",
       "    }\n",
       "</style>\n",
       "<table border=\"1\" class=\"dataframe\">\n",
       "  <thead>\n",
       "    <tr style=\"text-align: right;\">\n",
       "      <th></th>\n",
       "      <th>DBA_name</th>\n",
       "      <th>Zip_code</th>\n",
       "      <th>Inspection_date</th>\n",
       "      <th>Score</th>\n",
       "      <th>Address</th>\n",
       "    </tr>\n",
       "  </thead>\n",
       "  <tbody>\n",
       "    <tr>\n",
       "      <th>0</th>\n",
       "      <td>MN - Manor Grocery</td>\n",
       "      <td>78653</td>\n",
       "      <td>2017-12-29</td>\n",
       "      <td>93</td>\n",
       "      <td>102 E PARSONS ST\\nMANOR, TX 78653\\n(30.341012,...</td>\n",
       "    </tr>\n",
       "    <tr>\n",
       "      <th>1</th>\n",
       "      <td>LW - Grumpy Grouper</td>\n",
       "      <td>78734</td>\n",
       "      <td>2017-12-29</td>\n",
       "      <td>83</td>\n",
       "      <td>1113 N FM 620 RD\\nLAKEWAY, TX 78734\\n</td>\n",
       "    </tr>\n",
       "    <tr>\n",
       "      <th>2</th>\n",
       "      <td>Hotel Saint Cecilia</td>\n",
       "      <td>78704</td>\n",
       "      <td>2017-12-29</td>\n",
       "      <td>98</td>\n",
       "      <td>112 ACADEMY DR\\nAUSTIN, TX 78704\\n(30.251818, ...</td>\n",
       "    </tr>\n",
       "    <tr>\n",
       "      <th>3</th>\n",
       "      <td>Las Mangonadas</td>\n",
       "      <td>78702</td>\n",
       "      <td>2017-12-29</td>\n",
       "      <td>92</td>\n",
       "      <td>1144 AIRPORT BLVD Unit 180\\nAUSTIN, TX 78702\\n...</td>\n",
       "    </tr>\n",
       "    <tr>\n",
       "      <th>4</th>\n",
       "      <td>MN - Walmart # 3169 Fuel Center</td>\n",
       "      <td>78653</td>\n",
       "      <td>2017-12-29</td>\n",
       "      <td>99</td>\n",
       "      <td>11821 E US 290 HWY EB\\nMANOR, TX 78653\\n</td>\n",
       "    </tr>\n",
       "  </tbody>\n",
       "</table>\n",
       "</div>"
      ],
      "text/plain": [
       "                          DBA_name  Zip_code Inspection_date  Score  \\\n",
       "0               MN - Manor Grocery     78653      2017-12-29     93   \n",
       "1              LW - Grumpy Grouper     78734      2017-12-29     83   \n",
       "2              Hotel Saint Cecilia     78704      2017-12-29     98   \n",
       "3                   Las Mangonadas     78702      2017-12-29     92   \n",
       "4  MN - Walmart # 3169 Fuel Center     78653      2017-12-29     99   \n",
       "\n",
       "                                             Address  \n",
       "0  102 E PARSONS ST\\nMANOR, TX 78653\\n(30.341012,...  \n",
       "1              1113 N FM 620 RD\\nLAKEWAY, TX 78734\\n  \n",
       "2  112 ACADEMY DR\\nAUSTIN, TX 78704\\n(30.251818, ...  \n",
       "3  1144 AIRPORT BLVD Unit 180\\nAUSTIN, TX 78702\\n...  \n",
       "4           11821 E US 290 HWY EB\\nMANOR, TX 78653\\n  "
      ]
     },
     "execution_count": 15,
     "metadata": {},
     "output_type": "execute_result"
    }
   ],
   "source": [
    "df.head()"
   ]
  },
  {
   "cell_type": "code",
   "execution_count": 16,
   "metadata": {},
   "outputs": [
    {
     "name": "stdout",
     "output_type": "stream",
     "text": [
      "(8988, 5)\n"
     ]
    }
   ],
   "source": [
    "# Print the shape of df\n",
    "print(df.shape)"
   ]
  },
  {
   "cell_type": "code",
   "execution_count": 17,
   "metadata": {},
   "outputs": [
    {
     "data": {
      "text/plain": [
       "DBA_name           0\n",
       "Zip_code           0\n",
       "Inspection_date    0\n",
       "Score              0\n",
       "Address            0\n",
       "dtype: int64"
      ]
     },
     "execution_count": 17,
     "metadata": {},
     "output_type": "execute_result"
    }
   ],
   "source": [
    "# Print the info of df\n",
    "df.isnull().sum()"
   ]
  },
  {
   "cell_type": "code",
   "execution_count": 18,
   "metadata": {},
   "outputs": [
    {
     "data": {
      "text/plain": [
       "dict_keys([78610, 78613, 78615, 78617, 78620, 78621, 78641, 78652, 78653, 78654, 78660, 78669, 78701, 78702, 78703, 78704, 78705, 78717, 78719, 78721, 78722, 78723, 78724, 78725, 78726, 78727, 78728, 78729, 78730, 78731, 78732, 78733, 78734, 78735, 78736, 78737, 78738, 78739, 78741, 78742, 78744, 78745, 78746, 78747, 78748, 78749, 78750, 78751, 78752, 78753, 78754, 78756, 78757, 78758, 78759])"
      ]
     },
     "execution_count": 18,
     "metadata": {},
     "output_type": "execute_result"
    }
   ],
   "source": [
    "df.groupby('Zip_code').groups.keys()"
   ]
  },
  {
   "cell_type": "code",
   "execution_count": 19,
   "metadata": {},
   "outputs": [
    {
     "data": {
      "text/html": [
       "<div>\n",
       "<style scoped>\n",
       "    .dataframe tbody tr th:only-of-type {\n",
       "        vertical-align: middle;\n",
       "    }\n",
       "\n",
       "    .dataframe tbody tr th {\n",
       "        vertical-align: top;\n",
       "    }\n",
       "\n",
       "    .dataframe thead th {\n",
       "        text-align: right;\n",
       "    }\n",
       "</style>\n",
       "<table border=\"1\" class=\"dataframe\">\n",
       "  <thead>\n",
       "    <tr style=\"text-align: right;\">\n",
       "      <th></th>\n",
       "      <th>DBA_name</th>\n",
       "      <th>Zip_code</th>\n",
       "      <th>Inspection_date</th>\n",
       "      <th>Score</th>\n",
       "      <th>Address</th>\n",
       "    </tr>\n",
       "  </thead>\n",
       "  <tbody>\n",
       "    <tr>\n",
       "      <th>0</th>\n",
       "      <td>MN - Manor Grocery</td>\n",
       "      <td>78653</td>\n",
       "      <td>2017-12-29</td>\n",
       "      <td>93</td>\n",
       "      <td>102 E PARSONS ST\\nMANOR, TX 78653\\n(30.341012,...</td>\n",
       "    </tr>\n",
       "    <tr>\n",
       "      <th>1</th>\n",
       "      <td>LW - Grumpy Grouper</td>\n",
       "      <td>78734</td>\n",
       "      <td>2017-12-29</td>\n",
       "      <td>83</td>\n",
       "      <td>1113 N FM 620 RD\\nLAKEWAY, TX 78734\\n</td>\n",
       "    </tr>\n",
       "    <tr>\n",
       "      <th>2</th>\n",
       "      <td>Hotel Saint Cecilia</td>\n",
       "      <td>78704</td>\n",
       "      <td>2017-12-29</td>\n",
       "      <td>98</td>\n",
       "      <td>112 ACADEMY DR\\nAUSTIN, TX 78704\\n(30.251818, ...</td>\n",
       "    </tr>\n",
       "    <tr>\n",
       "      <th>3</th>\n",
       "      <td>Las Mangonadas</td>\n",
       "      <td>78702</td>\n",
       "      <td>2017-12-29</td>\n",
       "      <td>92</td>\n",
       "      <td>1144 AIRPORT BLVD Unit 180\\nAUSTIN, TX 78702\\n...</td>\n",
       "    </tr>\n",
       "    <tr>\n",
       "      <th>4</th>\n",
       "      <td>MN - Walmart # 3169 Fuel Center</td>\n",
       "      <td>78653</td>\n",
       "      <td>2017-12-29</td>\n",
       "      <td>99</td>\n",
       "      <td>11821 E US 290 HWY EB\\nMANOR, TX 78653\\n</td>\n",
       "    </tr>\n",
       "  </tbody>\n",
       "</table>\n",
       "</div>"
      ],
      "text/plain": [
       "                          DBA_name  Zip_code Inspection_date  Score  \\\n",
       "0               MN - Manor Grocery     78653      2017-12-29     93   \n",
       "1              LW - Grumpy Grouper     78734      2017-12-29     83   \n",
       "2              Hotel Saint Cecilia     78704      2017-12-29     98   \n",
       "3                   Las Mangonadas     78702      2017-12-29     92   \n",
       "4  MN - Walmart # 3169 Fuel Center     78653      2017-12-29     99   \n",
       "\n",
       "                                             Address  \n",
       "0  102 E PARSONS ST\\nMANOR, TX 78653\\n(30.341012,...  \n",
       "1              1113 N FM 620 RD\\nLAKEWAY, TX 78734\\n  \n",
       "2  112 ACADEMY DR\\nAUSTIN, TX 78704\\n(30.251818, ...  \n",
       "3  1144 AIRPORT BLVD Unit 180\\nAUSTIN, TX 78702\\n...  \n",
       "4           11821 E US 290 HWY EB\\nMANOR, TX 78653\\n  "
      ]
     },
     "execution_count": 19,
     "metadata": {},
     "output_type": "execute_result"
    }
   ],
   "source": [
    "df1=df\n",
    "df1.head()"
   ]
  },
  {
   "cell_type": "code",
   "execution_count": 20,
   "metadata": {},
   "outputs": [
    {
     "data": {
      "text/plain": [
       "78701    595\n",
       "78704    586\n",
       "78745    503\n",
       "78758    470\n",
       "78753    457\n",
       "78702    415\n",
       "78759    392\n",
       "78705    371\n",
       "78757    342\n",
       "78741    286\n",
       "78723    268\n",
       "78746    265\n",
       "78744    264\n",
       "78748    252\n",
       "78749    247\n",
       "78703    198\n",
       "78752    194\n",
       "78738    179\n",
       "78729    174\n",
       "78727    172\n",
       "78751    168\n",
       "78734    165\n",
       "78750    161\n",
       "78756    142\n",
       "78653    135\n",
       "78660    128\n",
       "78731    120\n",
       "78717    119\n",
       "78735    118\n",
       "78617    112\n",
       "78722    103\n",
       "78754    102\n",
       "78728    101\n",
       "78726    100\n",
       "78732     79\n",
       "78613     71\n",
       "78724     69\n",
       "78719     56\n",
       "78721     51\n",
       "78669     48\n",
       "78747     31\n",
       "78736     30\n",
       "78725     28\n",
       "78737     27\n",
       "78730     26\n",
       "78652     17\n",
       "78733     12\n",
       "78739     12\n",
       "78641      8\n",
       "78742      6\n",
       "78620      4\n",
       "78654      3\n",
       "78621      2\n",
       "78615      2\n",
       "78610      2\n",
       "Name: Zip_code, dtype: int64"
      ]
     },
     "execution_count": 20,
     "metadata": {},
     "output_type": "execute_result"
    }
   ],
   "source": [
    "#find the DBA_name that score higher than 85\n",
    "df1.Zip_code.value_counts()"
   ]
  },
  {
   "cell_type": "code",
   "execution_count": 21,
   "metadata": {},
   "outputs": [
    {
     "name": "stdout",
     "output_type": "stream",
     "text": [
      "78701    595\n",
      "78704    586\n",
      "78745    503\n",
      "78758    470\n",
      "78753    457\n",
      "78702    415\n",
      "78759    392\n",
      "78705    371\n",
      "78757    342\n",
      "78741    286\n",
      "78723    268\n",
      "78746    265\n",
      "78744    264\n",
      "78748    252\n",
      "78749    247\n",
      "78703    198\n",
      "78752    194\n",
      "78738    179\n",
      "78729    174\n",
      "78727    172\n",
      "Name: Zip_code, dtype: int64\n"
     ]
    }
   ],
   "source": [
    "#location that has the most food establishment\n",
    "popular_area = df1.Zip_code.value_counts().head(20)\n",
    "print(popular_area)"
   ]
  },
  {
   "cell_type": "code",
   "execution_count": 22,
   "metadata": {},
   "outputs": [],
   "source": [
    "%matplotlib inline\n",
    "import seaborn as sns"
   ]
  },
  {
   "cell_type": "code",
   "execution_count": 23,
   "metadata": {},
   "outputs": [],
   "source": [
    "x = df1.Zip_code.value_counts().head(20)\n",
    "y = df1.Zip_code"
   ]
  },
  {
   "cell_type": "code",
   "execution_count": 24,
   "metadata": {},
   "outputs": [],
   "source": [
    "df_top20 = pd.DataFrame(df1.groupby('Zip_code').count()['Address'].sort_values(ascending=False)[:20])"
   ]
  },
  {
   "cell_type": "code",
   "execution_count": 25,
   "metadata": {},
   "outputs": [],
   "source": [
    "# make a cont column\n",
    "df_top20.reset_index(inplace=True)"
   ]
  },
  {
   "cell_type": "code",
   "execution_count": 26,
   "metadata": {},
   "outputs": [],
   "source": [
    "# rename zip and address cols\n",
    "df_top20.columns = ['zip', 'count']"
   ]
  },
  {
   "cell_type": "code",
   "execution_count": 27,
   "metadata": {},
   "outputs": [],
   "source": [
    "# df_top20"
   ]
  },
  {
   "cell_type": "code",
   "execution_count": null,
   "metadata": {},
   "outputs": [],
   "source": []
  },
  {
   "cell_type": "code",
   "execution_count": 36,
   "metadata": {},
   "outputs": [
    {
     "data": {
      "image/png": "[encoded data removed]",
      "text/plain": [
       "<matplotlib.figure.Figure at 0x7f70ffe01f60>"
      ]
     },
     "metadata": {},
     "output_type": "display_data"
    }
   ],
   "source": [
    "zp = sns.barplot(y='count', x='zip', data=df_top20, palette='Blues_d', order=df_top20['zip'])\n",
    "\n",
    "# g = sns.factorplot(\"year\", data=planets, aspect=1.5, kind=\"count\", color=\"b\")\n",
    "zp.set_xticklabels(df_top20['zip'], rotation=70)\n",
    "zp.set(xlabel='Count of Restaurant Reviews', ylabel='Zip Code')\n",
    "plt.show()"
   ]
  }
 ],
 "metadata": {
  "kernelspec": {
   "display_name": "Python 3",
   "language": "python",
   "name": "python3"
  },
  "language_info": {
   "codemirror_mode": {
    "name": "ipython",
    "version": 3
   },
   "file_extension": ".py",
   "mimetype": "text/x-python",
   "name": "python",
   "nbconvert_exporter": "python",
   "pygments_lexer": "ipython3",
   "version": "3.6.3"
  }
 },
 "nbformat": 4,
 "nbformat_minor": 2
}
