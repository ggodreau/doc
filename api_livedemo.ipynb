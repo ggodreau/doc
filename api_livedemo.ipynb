{
 "cells": [
  {
   "cell_type": "code",
   "execution_count": 1,
   "metadata": {},
   "outputs": [],
   "source": [
    "import requests\n",
    "import json"
   ]
  },
  {
   "cell_type": "code",
   "execution_count": 2,
   "metadata": {},
   "outputs": [],
   "source": [
    "res = requests.get('https://maps.googleapis.com/maps/api/geocode/json?address=500+E+St+Johns+Ave+Suite+2.620+Austin+TX+78752')"
   ]
  },
  {
   "cell_type": "code",
   "execution_count": 3,
   "metadata": {},
   "outputs": [
    {
     "data": {
      "text/plain": [
       "200"
      ]
     },
     "execution_count": 3,
     "metadata": {},
     "output_type": "execute_result"
    }
   ],
   "source": [
    "res.status_code"
   ]
  },
  {
   "cell_type": "code",
   "execution_count": 16,
   "metadata": {},
   "outputs": [
    {
     "data": {
      "text/plain": [
       "{'address_components': [{'long_name': '2',\n",
       "   'short_name': '2',\n",
       "   'types': ['subpremise']},\n",
       "  {'long_name': '500', 'short_name': '500', 'types': ['street_number']},\n",
       "  {'long_name': 'East Saint Johns Avenue',\n",
       "   'short_name': 'E St Johns Ave',\n",
       "   'types': ['route']},\n",
       "  {'long_name': 'St. John/Coronado Hills',\n",
       "   'short_name': 'St. John/Coronado Hills',\n",
       "   'types': ['neighborhood', 'political']},\n",
       "  {'long_name': 'Austin',\n",
       "   'short_name': 'Austin',\n",
       "   'types': ['locality', 'political']},\n",
       "  {'long_name': 'Travis County',\n",
       "   'short_name': 'Travis County',\n",
       "   'types': ['administrative_area_level_2', 'political']},\n",
       "  {'long_name': 'Texas',\n",
       "   'short_name': 'TX',\n",
       "   'types': ['administrative_area_level_1', 'political']},\n",
       "  {'long_name': 'United States',\n",
       "   'short_name': 'US',\n",
       "   'types': ['country', 'political']},\n",
       "  {'long_name': '78752', 'short_name': '78752', 'types': ['postal_code']}],\n",
       " 'formatted_address': '500 E St Johns Ave #2, Austin, TX 78752, USA',\n",
       " 'geometry': {'bounds': {'northeast': {'lat': 30.3349643, 'lng': -97.7059584},\n",
       "   'southwest': {'lat': 30.334116, 'lng': -97.70691490000002}},\n",
       "  'location': {'lat': 30.3345038, 'lng': -97.7062435},\n",
       "  'location_type': 'ROOFTOP',\n",
       "  'viewport': {'northeast': {'lat': 30.3358891302915,\n",
       "    'lng': -97.70508766970852},\n",
       "   'southwest': {'lat': 30.3331911697085, 'lng': -97.70778563029153}}},\n",
       " 'partial_match': True,\n",
       " 'place_id': 'Eiw1MDAgRSBTdCBKb2hucyBBdmUgIzIsIEF1c3RpbiwgVFggNzg3NTIsIFVTQQ',\n",
       " 'types': ['subpremise']}"
      ]
     },
     "execution_count": 16,
     "metadata": {},
     "output_type": "execute_result"
    }
   ],
   "source": [
    "json.loads(res.content)['results'][0]"
   ]
  }
 ],
 "metadata": {
  "kernelspec": {
   "display_name": "Python 3",
   "language": "python",
   "name": "python3"
  },
  "language_info": {
   "codemirror_mode": {
    "name": "ipython",
    "version": 3
   },
   "file_extension": ".py",
   "mimetype": "text/x-python",
   "name": "python",
   "nbconvert_exporter": "python",
   "pygments_lexer": "ipython3",
   "version": "3.6.3"
  }
 },
 "nbformat": 4,
 "nbformat_minor": 2
}
