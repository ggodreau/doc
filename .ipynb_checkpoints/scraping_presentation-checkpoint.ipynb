{
 "cells": [
  {
   "cell_type": "markdown",
   "metadata": {
    "slideshow": {
     "slide_type": "slide"
    }
   },
   "source": [
    "<img src=\"http://www.daysofcode.nl/assets/img/logo.png\" style=\"float: left; margin: 5px; height: 40px\">\n",
    "\n",
    "# Introduction to Web Scraping with `beautifulSoup`\n",
    "---\n",
    "\n",
    "\n",
    "### Agenda\n",
    "- Understand the structure and content of HTML\n",
    "- Learn about elements, attributes, and element hierarchy in HTML\n",
    "- Practice using Beautiful Soup to parse data from Realty Austin\n"
   ]
  },
  {
   "cell_type": "markdown",
   "metadata": {
    "slideshow": {
     "slide_type": "slide"
    }
   },
   "source": [
    "<img src='https://cdn-images-1.medium.com/max/1200/1*MJ9Y4_tCTv99Gs_xZYlKrA.png' style=\"margin: 5px; height: 80px\">\n",
    "\n",
    "Webpages represent a wealth of information of unstructured data, most of which can be mined into structured data.\n",
    "\n",
    "\n",
    "**If you can see it, it can be scraped, mined, and put into a dataframe.**\n",
    "\n",
    "\n",
    "Before we begin the actual process of webscraping with python, it is important to cover the basic constructs that describe HTML as unstructured data. "
   ]
  },
  {
   "cell_type": "markdown",
   "metadata": {
    "slideshow": {
     "slide_type": "fragment"
    }
   },
   "source": [
    "<a id='html'></a>\n",
    "\n",
    "## Hypertext markup language (HTML)\n",
    "\n",
    "---\n",
    "\n",
    "In the HTML DOM (Document Object Model), everything is a node:\n",
    " * The document itself is a document node.\n",
    " * All HTML elements are element nodes.\n",
    " * All HTML attributes are attribute nodes.\n",
    " * Text inside HTML elements are text nodes."
   ]
  },
  {
   "cell_type": "markdown",
   "metadata": {
    "slideshow": {
     "slide_type": "slide"
    }
   },
   "source": [
    "<a id='elements'></a>\n",
    "### Elements\n",
    "Elements begin and end with open and close \"tags\", which are defined by namespaced, encapsulated strings. These namespaces that begin and end the elements must be the same.\n",
    "\n",
    "```\n",
    "<title>I am a title.</title>\n",
    "<p>I am a paragraph.</p>\n",
    "<strong>I am bold.</strong>\n",
    "```\n",
    "\n",
    "As you may have several different titles or paragraphs on a single page, you can assign ID values to namespace to make more unique reference points.  IDs are also very useful for labelling nested elements.\n",
    "```\n",
    "<title id ='title_1'>I am a the first title.</title>\n",
    "<p id ='para_1'>I am the first paragraph.</p>\n",
    "<title id ='title_2'>I am a the second title.</title>\n",
    "<p id ='para_2'>I am the second paragraph.</p>\n",
    "```"
   ]
  },
  {
   "cell_type": "markdown",
   "metadata": {
    "slideshow": {
     "slide_type": "subslide"
    }
   },
   "source": [
    "\n",
    "\n",
    "**Elements can have parents and children:**\n",
    "It is important to remember that an element can be both a parent and a child and whether to refer to the element as a parent or a child depends on the specific element you are referencing.\n",
    "\n",
    "\n",
    "```\n",
    "<body id = 'parent'>\n",
    "    <div id = 'child_1'>I am the child of 'parent'\n",
    "        <div id = 'child_2'>I am the child of 'child_1'\n",
    "            <div id = 'child_3'>I am the child of 'child_2'\n",
    "                <div id = 'child_4'>I am the child of 'child_4'</div>\n",
    "            </div>\n",
    "        </div>\n",
    "    </div>\n",
    "</body>\n",
    "```\n",
    "**or**\n",
    "```\n",
    "<body id = 'parent'>\n",
    "    <div id = 'child_1'>I am the parent of 'child_2'\n",
    "        <div id = 'child_2'>I am the parent of 'child_3'\n",
    "            <div id = 'child_3'> I am the parent of 'child_4'\n",
    "                <div id = 'child_4'>I am not a parent </div>\n",
    "            </div>\n",
    "        </div>\n",
    "    </div>\n",
    "</body>\n",
    "```"
   ]
  },
  {
   "cell_type": "markdown",
   "metadata": {
    "slideshow": {
     "slide_type": "slide"
    }
   },
   "source": [
    "<a id='attributes'></a>\n",
    "### Attributes\n",
    "\n",
    "HTML elements can have attributes.  They describe properties, and characteristics of elements.  Some affect how the element behaves or looks in terms of the rendered output by the browser.\n",
    "\n",
    "The most common element is an \"anchor\" element.  Anchor elements often have an \"href\" element, which tells the browser where to go after it is clicked.  Anchor elements are typically are formatted in bold, and sometimes are underlined as a visual cue to differentiate itself.\n",
    "\n",
    "**Markup that describes nn element with attributes, litterally looks like this**\n",
    "\n",
    "```\n",
    "<a href=\"https://www.youtube.com/watch?v=dQw4w9WgXcQ\">An Awesome Website</a>\n",
    "```\n",
    "\n",
    "**However, this element, once rendered, looks like this**\n",
    "\n",
    "[An Awesome Website](https://www.youtube.com/watch?v=dQw4w9WgXcQ)"
   ]
  },
  {
   "cell_type": "markdown",
   "metadata": {
    "slideshow": {
     "slide_type": "slide"
    }
   },
   "source": [
    "### Element hierarchy\n",
    "\n",
    "<img src='http://www.computerhope.com/jargon/d/dom1.jpg' style='height: 200px'>\n",
    "\n",
    "```\n",
    "<html>    \n",
    "    <head>\n",
    "        <title>Example</title>\n",
    "    </head>\n",
    "    <body>\n",
    "        <h1>Example Page</h1>\n",
    "        <p>This is an example page.</p>\n",
    "    </body>\n",
    "</html>\n",
    "```"
   ]
  },
  {
   "cell_type": "markdown",
   "metadata": {
    "slideshow": {
     "slide_type": "slide"
    }
   },
   "source": [
    "<a id='html-resources'></a>\n",
    "### You are now qualified HTML experts\n",
    "\n",
    "![](assets/certified.jpg)\n",
    "\n",
    "Your HTML learning can continue...\n",
    "\n",
    "Read all about the different elements supported amongst modern browsers:\n",
    " * [HTML5 Cheatsheet](http://websitesetup.org/html5-cheat-sheet/)\n",
    " * [Mozilla HTML Element Reference](https://developer.mozilla.org/en-US/docs/Web/HTML/Element)\n",
    " * [HTML5 Visual Cheatsheet](http://www.unitedleather.biz/PDF/HTML5-Visual-Cheat-Sheet1.pdf)\n",
    " "
   ]
  },
  {
   "cell_type": "markdown",
   "metadata": {
    "slideshow": {
     "slide_type": "slide"
    }
   },
   "source": [
    "<a id='practical'></a>\n",
    "\n",
    "## Using Requests + Beautiful Soup to extract information from a webpage.\n",
    "\n",
    "---\n",
    "\n",
    "Beautiful Soup is a python library useful for pulling data out of HTML and XML files.  It works with many parsers, such as XPath and can be executed in an IDE, so it can be much easier to work with when first extracting information from html.\n",
    "\n",
    "Please make sure that the required packages are installed: \n",
    "\n",
    "```bash\n",
    "# beautiful soup:\n",
    "> conda install bs4 \n",
    "> conda install lxml\n",
    "\n",
    "# or if conda doesn't work\n",
    "> pip install bs4\n",
    "> pip install lxml\n",
    "```"
   ]
  },
  {
   "cell_type": "markdown",
   "metadata": {
    "slideshow": {
     "slide_type": "slide"
    }
   },
   "source": [
    "<a id='step1'></a>\n",
    "### Step 1: fetch the content by URL\n",
    "\n"
   ]
  },
  {
   "cell_type": "code",
   "execution_count": 1,
   "metadata": {
    "slideshow": {
     "slide_type": "fragment"
    }
   },
   "outputs": [],
   "source": [
    "# you will need the requests library in order to fully utilize bs4\n",
    "import requests\n",
    "from bs4 import BeautifulSoup"
   ]
  },
  {
   "cell_type": "code",
   "execution_count": 5,
   "metadata": {
    "slideshow": {
     "slide_type": "fragment"
    }
   },
   "outputs": [
    {
     "name": "stdout",
     "output_type": "stream",
     "text": [
      "Status Code:  200\n",
      "\n",
      "First part of HTML document fetched as string:\n",
      "\n",
      "<!DOCTYPE html>\n",
      "<html lang=\"en\">\n",
      "\n",
      "\t<head>\n",
      "\t\t<!-- Meta -->\n",
      "\t\t<meta charset=\"utf-8\">\n",
      "\t\t<meta http-equiv=\"X-UA-Compatible\" content=\"IE=edge\">\n",
      "\t\t<meta name=\"viewport\" content=\"width=device-width, initial-\n"
     ]
    }
   ],
   "source": [
    "# call the webpage\n",
    "response = requests.get(\"http://daysofcode.io/\")\n",
    "\n",
    "# You can use status codes to understand how the target server responds to your request.\n",
    "#Ex. 200 = OK, 400 = Bad Request, 403 = Forbidden, 404 = Not Found\n",
    "print ('Status Code: ',response.status_code)\n",
    "# Pull HTML string out of requests and convert to a python string\n",
    "res = response.text\n",
    "\n",
    "# The first 500 characters of the content\n",
    "print (\"\\nFirst part of HTML document fetched as string:\\n\")\n",
    "print (res[:200])"
   ]
  },
  {
   "cell_type": "markdown",
   "metadata": {
    "slideshow": {
     "slide_type": "slide"
    }
   },
   "source": [
    "<a id='step2'></a>\n",
    "### Step 2: Parse HTML document with Beautiful Soup\n",
    "\n",
    "This step allows us to access the elements of the document by XPATH expressions."
   ]
  },
  {
   "cell_type": "code",
   "execution_count": 9,
   "metadata": {
    "slideshow": {
     "slide_type": "fragment"
    }
   },
   "outputs": [],
   "source": [
    "soup = BeautifulSoup(res, 'html5lib')"
   ]
  },
  {
   "cell_type": "markdown",
   "metadata": {
    "slideshow": {
     "slide_type": "fragment"
    }
   },
   "source": [
    "Soup queries are more like accessing information within a python object.  "
   ]
  },
  {
   "cell_type": "markdown",
   "metadata": {
    "slideshow": {
     "slide_type": "fragment"
    }
   },
   "source": [
    "> **Note:** There are many ways to get the elements in a \"soup\" object\n",
    "\n",
    "Here are a few ways to select HMTL elements as \"objects\" within \"soup\" as a document."
   ]
  },
  {
   "cell_type": "code",
   "execution_count": 10,
   "metadata": {
    "slideshow": {
     "slide_type": "slide"
    }
   },
   "outputs": [
    {
     "data": {
      "text/plain": [
       "<title>Days of Code | Austin | Tuition-free courses</title>"
      ]
     },
     "execution_count": 10,
     "metadata": {},
     "output_type": "execute_result"
    }
   ],
   "source": [
    "# Singular element\n",
    "soup.html.title"
   ]
  },
  {
   "cell_type": "code",
   "execution_count": 12,
   "metadata": {
    "slideshow": {
     "slide_type": "fragment"
    }
   },
   "outputs": [
    {
     "name": "stdout",
     "output_type": "stream",
     "text": [
      "Days of Code | Austin | Tuition-free courses\n"
     ]
    }
   ],
   "source": [
    "# Just the text between elements\n",
    "print(soup.html.title.text)"
   ]
  },
  {
   "cell_type": "code",
   "execution_count": 19,
   "metadata": {
    "slideshow": {
     "slide_type": "fragment"
    }
   },
   "outputs": [],
   "source": [
    "# find single or multiple elements\n",
    "# First parameter\n",
    "element = soup.findAll(\"section\", {\"id\": \"application\"})"
   ]
  },
  {
   "cell_type": "code",
   "execution_count": 32,
   "metadata": {
    "slideshow": {
     "slide_type": "fragment"
    }
   },
   "outputs": [
    {
     "name": "stdout",
     "output_type": "stream",
     "text": [
      "Meghann Agarwal\n",
      "Youssef Chaker\n",
      "Natasha Robarge\n",
      "Ryan Heneise\n",
      "Mateo Clarke\n",
      "Iona Olive\n",
      "Lee Harper\n",
      "Happiness Kisoso\n"
     ]
    }
   ],
   "source": [
    "for person in element[0].findAll('div', {'class': 'single_about'}):\n",
    "    print(person.findAll('h4')[0].text)"
   ]
  }
 ],
 "metadata": {
  "anaconda-cloud": {},
  "celltoolbar": "Slideshow",
  "kernelspec": {
   "display_name": "Python 3",
   "language": "python",
   "name": "python3"
  },
  "language_info": {
   "codemirror_mode": {
    "name": "ipython",
    "version": 3
   },
   "file_extension": ".py",
   "mimetype": "text/x-python",
   "name": "python",
   "nbconvert_exporter": "python",
   "pygments_lexer": "ipython3",
   "version": "3.6.3"
  }
 },
 "nbformat": 4,
 "nbformat_minor": 1
}
