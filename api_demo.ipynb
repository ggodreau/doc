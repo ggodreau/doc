{
 "cells": [
  {
   "cell_type": "code",
   "execution_count": 13,
   "metadata": {},
   "outputs": [],
   "source": [
    "import pandas as pd\n",
    "import requests\n",
    "import ast\n",
    "import numpy as np\n",
    "import time\n",
    "import matplotlib.pyplot as plt\n",
    "%matplotlib inline"
   ]
  },
  {
   "cell_type": "markdown",
   "metadata": {},
   "source": [
    "More info on requests library can be found [here](http://docs.python-requests.org/en/master/user/quickstart/)\n",
    "\n",
    "# Simple example"
   ]
  },
  {
   "cell_type": "code",
   "execution_count": 14,
   "metadata": {},
   "outputs": [],
   "source": [
    "# set endpoint URL\n",
    "url = 'https://data.austintexas.gov/resource/x9yh-78fz.json'\n",
    "# query params\n",
    "payload = {'fiscal_year_issued': '2018', \n",
    "           'contractor_zip': '78749',\n",
    "           '$select': 'condominium, total_job_valuation,\\\n",
    "               longitude, latitude, permittype, total_new_add_sqft, \\\n",
    "               total_existing_bldg_sqft'}\n",
    "# API token\n",
    "my_key = open('./myKey.txt', 'r').read().splitlines()[0]\n",
    "headers = { 'X-App-Token': my_key } "
   ]
  },
  {
   "cell_type": "code",
   "execution_count": 15,
   "metadata": {},
   "outputs": [],
   "source": [
    "res = requests.get(url, params=payload, headers=headers)"
   ]
  },
  {
   "cell_type": "code",
   "execution_count": 16,
   "metadata": {},
   "outputs": [
    {
     "name": "stdout",
     "output_type": "stream",
     "text": [
      "200\n"
     ]
    },
    {
     "data": {
      "text/plain": [
       "True"
      ]
     },
     "execution_count": 16,
     "metadata": {},
     "output_type": "execute_result"
    }
   ],
   "source": [
    "print(res.status_code)\n",
    "res.status_code == requests.codes.ok"
   ]
  },
  {
   "cell_type": "code",
   "execution_count": 17,
   "metadata": {},
   "outputs": [
    {
     "data": {
      "text/plain": [
       "['condominium',\n",
       " 'latitude',\n",
       " 'longitude',\n",
       " 'permittype',\n",
       " 'total_existing_bldg_sqft',\n",
       " 'total_job_valuation',\n",
       " 'total_new_add_sqft']"
      ]
     },
     "execution_count": 17,
     "metadata": {},
     "output_type": "execute_result"
    }
   ],
   "source": [
    "# let's take a look at the header information\n",
    "ast.literal_eval(res.headers['X-SODA2-Fields'])"
   ]
  },
  {
   "cell_type": "code",
   "execution_count": 18,
   "metadata": {},
   "outputs": [],
   "source": [
    "def get_unique_keys(list_of_dicts):\n",
    "    '''\n",
    "    return unique keys from within a list of dicts\n",
    "    '''\n",
    "    json_keys = []\n",
    "    for row in list_of_dicts:\n",
    "        for k in row.keys():\n",
    "            json_keys.append(k)\n",
    "    return set(json_keys)"
   ]
  },
  {
   "cell_type": "code",
   "execution_count": 19,
   "metadata": {},
   "outputs": [],
   "source": [
    "# create a template dictionary\n",
    "# consisting of all unique keys\n",
    "# within input dataset\n",
    "df_dict = {}\n",
    "for key in get_unique_keys(res.json()):\n",
    "    df_dict[key] = []\n",
    "    \n",
    "# fill in the dictionary with\n",
    "# values from the API call\n",
    "# making sure to input nulls\n",
    "# where needed\n",
    "for row in res.json():\n",
    "    for k in list(df_dict.keys()):\n",
    "        try:\n",
    "            df_dict[k].append(row[k])\n",
    "            continue\n",
    "        except KeyError:\n",
    "            df_dict[k].append(np.nan)"
   ]
  },
  {
   "cell_type": "code",
   "execution_count": 20,
   "metadata": {},
   "outputs": [],
   "source": [
    "# cram the dictionary into a dataframe\n",
    "df = pd.DataFrame.from_dict(df_dict)"
   ]
  },
  {
   "cell_type": "code",
   "execution_count": 21,
   "metadata": {},
   "outputs": [
    {
     "data": {
      "text/html": [
       "<div>\n",
       "<style scoped>\n",
       "    .dataframe tbody tr th:only-of-type {\n",
       "        vertical-align: middle;\n",
       "    }\n",
       "\n",
       "    .dataframe tbody tr th {\n",
       "        vertical-align: top;\n",
       "    }\n",
       "\n",
       "    .dataframe thead th {\n",
       "        text-align: right;\n",
       "    }\n",
       "</style>\n",
       "<table border=\"1\" class=\"dataframe\">\n",
       "  <thead>\n",
       "    <tr style=\"text-align: right;\">\n",
       "      <th></th>\n",
       "      <th>condominium</th>\n",
       "      <th>latitude</th>\n",
       "      <th>longitude</th>\n",
       "      <th>permittype</th>\n",
       "      <th>total_existing_bldg_sqft</th>\n",
       "      <th>total_job_valuation</th>\n",
       "      <th>total_new_add_sqft</th>\n",
       "    </tr>\n",
       "  </thead>\n",
       "  <tbody>\n",
       "    <tr>\n",
       "      <th>0</th>\n",
       "      <td>No</td>\n",
       "      <td>30.15927604</td>\n",
       "      <td>-97.80471692</td>\n",
       "      <td>MP</td>\n",
       "      <td>NaN</td>\n",
       "      <td>NaN</td>\n",
       "      <td>NaN</td>\n",
       "    </tr>\n",
       "    <tr>\n",
       "      <th>1</th>\n",
       "      <td>No</td>\n",
       "      <td>30.2231281</td>\n",
       "      <td>-97.86499161</td>\n",
       "      <td>BP</td>\n",
       "      <td>NaN</td>\n",
       "      <td>10000</td>\n",
       "      <td>NaN</td>\n",
       "    </tr>\n",
       "  </tbody>\n",
       "</table>\n",
       "</div>"
      ],
      "text/plain": [
       "  condominium     latitude     longitude permittype total_existing_bldg_sqft  \\\n",
       "0          No  30.15927604  -97.80471692         MP                      NaN   \n",
       "1          No   30.2231281  -97.86499161         BP                      NaN   \n",
       "\n",
       "  total_job_valuation total_new_add_sqft  \n",
       "0                 NaN                NaN  \n",
       "1               10000                NaN  "
      ]
     },
     "execution_count": 21,
     "metadata": {},
     "output_type": "execute_result"
    }
   ],
   "source": [
    "df.head(2)"
   ]
  },
  {
   "cell_type": "code",
   "execution_count": 22,
   "metadata": {},
   "outputs": [
    {
     "data": {
      "text/plain": [
       "(174, 7)"
      ]
     },
     "execution_count": 22,
     "metadata": {},
     "output_type": "execute_result"
    }
   ],
   "source": [
    "df.shape"
   ]
  },
  {
   "cell_type": "markdown",
   "metadata": {},
   "source": [
    "# Let's page through the data"
   ]
  },
  {
   "cell_type": "code",
   "execution_count": 99,
   "metadata": {},
   "outputs": [],
   "source": [
    "def page_api(n, api_key, page_size=1000):\n",
    "    \n",
    "    # set endpoint URL\n",
    "    url = 'https://data.austintexas.gov/resource/x9yh-78fz.json'\n",
    "    # query params\n",
    "    payload = { '$limit': 1,\n",
    "                '$order': ':id',\n",
    "                '$offset': 0,\n",
    "                '$select': 'permittype, applieddate'}\n",
    "    # API token\n",
    "    headers = { 'X-App-Token': api_key }\n",
    "    \n",
    "    # label encode permit string as ints\n",
    "    permit_encoder = {'EP': 0, 'MP': 1, 'PP': 2, 'BP': 3, 'DS': 4}\n",
    "    \n",
    "    # perform initial call to get column header info\n",
    "    res = requests.get(url, params=payload, headers=headers)\n",
    "    \n",
    "    # create a template dictionary\n",
    "    # consisting of all unique keys\n",
    "    # within input dataset\n",
    "    df_dict = {}\n",
    "    for key in get_unique_keys(res.json()):\n",
    "        df_dict[key] = []\n",
    "\n",
    "    # fill in the dictionary with\n",
    "    # values from the API call\n",
    "    # making sure to input nulls\n",
    "    # where needed\n",
    "    for row in res.json():\n",
    "        for k in list(df_dict.keys()):\n",
    "            try:\n",
    "                df_dict[k].append(row[k])\n",
    "                continue\n",
    "            except KeyError:\n",
    "                df_dict[k].append(np.nan)\n",
    "    \n",
    "    df = pd.DataFrame.from_dict(df_dict)\n",
    "    \n",
    "    for offset, limit in get_page_indexes(n, page_size):\n",
    "        payload['$offset'] = offset\n",
    "        payload['$limit'] = limit\n",
    "        \n",
    "        \n",
    "        print('Starting ID {} page size {}...'.format(payload['$offset'], payload['$limit']))\n",
    "        \n",
    "        res = requests.get(url, params=payload, headers=headers)\n",
    "\n",
    "        # zero out the data from the previous loop\n",
    "        for k in df_dict.keys():\n",
    "            df_dict[k] = []\n",
    "        \n",
    "        for row in res.json():\n",
    "            for k in list(df_dict.keys()):\n",
    "                try:\n",
    "                    df_dict[k].append(row[k])\n",
    "                    continue\n",
    "                except KeyError:\n",
    "                    df_dict[k].append(np.nan)\n",
    "    \n",
    "        # cram the dictionary into a dataframe\n",
    "        df_paged = pd.DataFrame.from_dict(df_dict)\n",
    "\n",
    "        df_paged['applieddate'] = pd.to_datetime(df_paged.copy()['applieddate'], format='%Y-%m-%d', errors='coerce')\n",
    "        \n",
    "        df_paged['permittype'] = df_paged.copy()['permittype'].apply(lambda x: permit_encoder[x] if x else 999)\n",
    "\n",
    "#         for i in ['latitude', 'longitude']:\n",
    "#             df_paged[i] = df_paged.copy()[i].astype(float)\n",
    "            \n",
    "        df = pd.concat([df, df_paged], axis=0, ignore_index=True)\n",
    "    \n",
    "        # don't overload the server with calls\n",
    "        time.sleep(2)\n",
    "    print('Completed successfully')\n",
    "    return df.iloc[1:]\n",
    "\n",
    "    \n",
    "def get_page_indexes(n, page_size=1000):\n",
    "    '''\n",
    "    returns offset, pagesize\n",
    "    '''\n",
    "    \n",
    "    cur_row = 1\n",
    "    page_size = page_size\n",
    "    first_loop_flag = 1\n",
    "    \n",
    "    page_indexes = []\n",
    "    \n",
    "    while cur_row < n:\n",
    "        if first_loop_flag == 1:\n",
    "            page_indexes.append([cur_row, page_size])\n",
    "            cur_row += page_size\n",
    "            first_loop_flag = 0\n",
    "        else:\n",
    "            if n < cur_row + page_size - 1:\n",
    "                page_indexes.append([cur_row, n % page_size])\n",
    "                cur_row += n % page_size\n",
    "            else:\n",
    "                page_indexes.append([cur_row, page_size - 1])\n",
    "                cur_row += page_size\n",
    "    \n",
    "    return page_indexes"
   ]
  },
  {
   "cell_type": "code",
   "execution_count": 107,
   "metadata": {
    "collapsed": true
   },
   "outputs": [
    {
     "name": "stdout",
     "output_type": "stream",
     "text": [
      "Starting ID 1 page size 25000...\n",
      "Starting ID 25001 page size 24999...\n",
      "Starting ID 50001 page size 24999...\n",
      "Starting ID 75001 page size 24999...\n",
      "Starting ID 100001 page size 24999...\n",
      "Starting ID 125001 page size 24999...\n",
      "Starting ID 150001 page size 24999...\n",
      "Starting ID 175001 page size 24999...\n",
      "Starting ID 200001 page size 24999...\n",
      "Starting ID 225001 page size 24999...\n",
      "Starting ID 250001 page size 24999...\n",
      "Starting ID 275001 page size 24999...\n",
      "Starting ID 300001 page size 24999...\n",
      "Starting ID 325001 page size 24999...\n",
      "Starting ID 350001 page size 24999...\n",
      "Starting ID 375001 page size 24999...\n",
      "Starting ID 400001 page size 24999...\n",
      "Starting ID 425001 page size 24999...\n",
      "Starting ID 450001 page size 24999...\n",
      "Starting ID 475001 page size 24999...\n",
      "Starting ID 500001 page size 24999...\n",
      "Starting ID 525001 page size 24999...\n",
      "Starting ID 550001 page size 24999...\n",
      "Starting ID 575001 page size 24999...\n",
      "Starting ID 600001 page size 24999...\n",
      "Starting ID 625001 page size 24999...\n",
      "Starting ID 650001 page size 24999...\n",
      "Starting ID 675001 page size 24999...\n",
      "Starting ID 700001 page size 24999...\n",
      "Starting ID 725001 page size 24999...\n",
      "Starting ID 750001 page size 24999...\n",
      "Starting ID 775001 page size 24999...\n",
      "Starting ID 800001 page size 24999...\n",
      "Starting ID 825001 page size 24999...\n",
      "Starting ID 850001 page size 24999...\n",
      "Starting ID 875001 page size 24999...\n",
      "Starting ID 900001 page size 24999...\n",
      "Starting ID 925001 page size 24999...\n",
      "Starting ID 950001 page size 24999...\n",
      "Starting ID 975001 page size 24999...\n",
      "Starting ID 1000001 page size 24999...\n",
      "Starting ID 1025001 page size 24999...\n",
      "Starting ID 1050001 page size 24999...\n",
      "Starting ID 1075001 page size 24999...\n",
      "Starting ID 1100001 page size 24999...\n",
      "Starting ID 1125001 page size 24999...\n",
      "Starting ID 1150001 page size 24999...\n",
      "Starting ID 1175001 page size 24999...\n",
      "Starting ID 1200001 page size 24999...\n",
      "Starting ID 1225001 page size 24999...\n",
      "Starting ID 1250001 page size 24999...\n",
      "Starting ID 1275001 page size 24999...\n",
      "Starting ID 1300001 page size 24999...\n",
      "Starting ID 1325001 page size 24999...\n",
      "Starting ID 1350001 page size 24999...\n",
      "Starting ID 1375001 page size 24999...\n",
      "Starting ID 1400001 page size 24999...\n",
      "Starting ID 1425001 page size 24999...\n",
      "Starting ID 1450001 page size 24999...\n",
      "Starting ID 1475001 page size 24999...\n",
      "Starting ID 1500001 page size 24999...\n",
      "Starting ID 1525001 page size 24999...\n",
      "Starting ID 1550001 page size 24999...\n",
      "Starting ID 1575001 page size 24999...\n",
      "Starting ID 1600001 page size 24999...\n",
      "Starting ID 1625001 page size 24999...\n",
      "Starting ID 1650001 page size 24999...\n",
      "Starting ID 1675001 page size 24999...\n",
      "Starting ID 1700001 page size 24999...\n",
      "Starting ID 1725001 page size 24999...\n",
      "Starting ID 1750001 page size 24999...\n",
      "Starting ID 1775001 page size 24999...\n",
      "Starting ID 1800001 page size 24999...\n",
      "Starting ID 1825001 page size 24999...\n",
      "Starting ID 1850001 page size 24999...\n",
      "Starting ID 1875001 page size 24999...\n",
      "Starting ID 1900001 page size 24999...\n",
      "Starting ID 1925001 page size 24999...\n",
      "Starting ID 1950001 page size 24999...\n",
      "Starting ID 1975001 page size 24999...\n",
      "Completed successfully\n"
     ]
    }
   ],
   "source": [
    "df = page_api(2000000, my_key, page_size=25000)"
   ]
  },
  {
   "cell_type": "code",
   "execution_count": 108,
   "metadata": {},
   "outputs": [],
   "source": [
    "df['year'] = df.copy()['applieddate'].dt.year\n",
    "df['month'] = df.copy()['applieddate'].dt.month"
   ]
  },
  {
   "cell_type": "code",
   "execution_count": 109,
   "metadata": {},
   "outputs": [],
   "source": [
    "chart_df = df.groupby(df['applieddate'].dt.year)[['applieddate']].count()"
   ]
  },
  {
   "cell_type": "code",
   "execution_count": 110,
   "metadata": {},
   "outputs": [],
   "source": [
    "chart_df.index.rename('year', inplace=True)"
   ]
  },
  {
   "cell_type": "code",
   "execution_count": 111,
   "metadata": {},
   "outputs": [],
   "source": [
    "chart_df.reset_index(inplace=True)"
   ]
  },
  {
   "cell_type": "code",
   "execution_count": 112,
   "metadata": {},
   "outputs": [
    {
     "data": {
      "text/html": [
       "<div>\n",
       "<style scoped>\n",
       "    .dataframe tbody tr th:only-of-type {\n",
       "        vertical-align: middle;\n",
       "    }\n",
       "\n",
       "    .dataframe tbody tr th {\n",
       "        vertical-align: top;\n",
       "    }\n",
       "\n",
       "    .dataframe thead th {\n",
       "        text-align: right;\n",
       "    }\n",
       "</style>\n",
       "<table border=\"1\" class=\"dataframe\">\n",
       "  <thead>\n",
       "    <tr style=\"text-align: right;\">\n",
       "      <th></th>\n",
       "      <th>year</th>\n",
       "      <th>applieddate</th>\n",
       "    </tr>\n",
       "  </thead>\n",
       "  <tbody>\n",
       "    <tr>\n",
       "      <th>0</th>\n",
       "      <td>1921.0</td>\n",
       "      <td>5</td>\n",
       "    </tr>\n",
       "    <tr>\n",
       "      <th>1</th>\n",
       "      <td>1969.0</td>\n",
       "      <td>3</td>\n",
       "    </tr>\n",
       "    <tr>\n",
       "      <th>2</th>\n",
       "      <td>1970.0</td>\n",
       "      <td>8</td>\n",
       "    </tr>\n",
       "    <tr>\n",
       "      <th>3</th>\n",
       "      <td>1971.0</td>\n",
       "      <td>9</td>\n",
       "    </tr>\n",
       "    <tr>\n",
       "      <th>4</th>\n",
       "      <td>1976.0</td>\n",
       "      <td>3</td>\n",
       "    </tr>\n",
       "  </tbody>\n",
       "</table>\n",
       "</div>"
      ],
      "text/plain": [
       "     year  applieddate\n",
       "0  1921.0            5\n",
       "1  1969.0            3\n",
       "2  1970.0            8\n",
       "3  1971.0            9\n",
       "4  1976.0            3"
      ]
     },
     "execution_count": 112,
     "metadata": {},
     "output_type": "execute_result"
    }
   ],
   "source": [
    "chart_df.head()"
   ]
  },
  {
   "cell_type": "code",
   "execution_count": 113,
   "metadata": {},
   "outputs": [
    {
     "data": {
      "text/plain": [
       "[<matplotlib.lines.Line2D at 0x7eff8f82d470>]"
      ]
     },
     "execution_count": 113,
     "metadata": {},
     "output_type": "execute_result"
    },
    {
     "data": {
      "image/png": "[encoded data removed]",
      "text/plain": [
       "<matplotlib.figure.Figure at 0x7eff867d1780>"
      ]
     },
     "metadata": {},
     "output_type": "display_data"
    }
   ],
   "source": [
    "plt.plot(chart_df[ chart_df['year'] > 2005 ]['year'], chart_df[ chart_df['year'] > 2005]['applieddate'])"
   ]
  },
  {
   "cell_type": "code",
   "execution_count": null,
   "metadata": {},
   "outputs": [],
   "source": []
  }
 ],
 "metadata": {
  "kernelspec": {
   "display_name": "Python 3",
   "language": "python",
   "name": "python3"
  },
  "language_info": {
   "codemirror_mode": {
    "name": "ipython",
    "version": 3
   },
   "file_extension": ".py",
   "mimetype": "text/x-python",
   "name": "python",
   "nbconvert_exporter": "python",
   "pygments_lexer": "ipython3",
   "version": "3.6.3"
  }
 },
 "nbformat": 4,
 "nbformat_minor": 2
}
