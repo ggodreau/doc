{
 "cells": [
  {
   "cell_type": "code",
   "execution_count": 1,
   "metadata": {},
   "outputs": [],
   "source": [
    "import pandas as pd\n",
    "import numpy as np\n",
    "import json\n",
    "import matplotlib.pyplot as plt\n",
    "%matplotlib inline"
   ]
  },
  {
   "cell_type": "code",
   "execution_count": 2,
   "metadata": {},
   "outputs": [
    {
     "name": "stdout",
     "output_type": "stream",
     "text": [
      "maha.ipynb\t  Restaurant_Inspection_Scores.csv\r\n",
      "maha_trump.ipynb  restaurant_score_feb15.ipynb\r\n"
     ]
    }
   ],
   "source": [
    "!ls"
   ]
  },
  {
   "cell_type": "code",
   "execution_count": 3,
   "metadata": {},
   "outputs": [],
   "source": [
    "df = pd.read_csv('./Restaurant_Inspection_Scores.csv')"
   ]
  },
  {
   "cell_type": "code",
   "execution_count": 5,
   "metadata": {},
   "outputs": [
    {
     "data": {
      "text/html": [
       "<div>\n",
       "<style scoped>\n",
       "    .dataframe tbody tr th:only-of-type {\n",
       "        vertical-align: middle;\n",
       "    }\n",
       "\n",
       "    .dataframe tbody tr th {\n",
       "        vertical-align: top;\n",
       "    }\n",
       "\n",
       "    .dataframe thead th {\n",
       "        text-align: right;\n",
       "    }\n",
       "</style>\n",
       "<table border=\"1\" class=\"dataframe\">\n",
       "  <thead>\n",
       "    <tr style=\"text-align: right;\">\n",
       "      <th></th>\n",
       "      <th>Restaurant Name</th>\n",
       "      <th>Zip Code</th>\n",
       "      <th>Inspection Date</th>\n",
       "      <th>Score</th>\n",
       "      <th>Address</th>\n",
       "      <th>Facility ID</th>\n",
       "      <th>Process Description</th>\n",
       "    </tr>\n",
       "  </thead>\n",
       "  <tbody>\n",
       "    <tr>\n",
       "      <th>0</th>\n",
       "      <td>New India Cuisine</td>\n",
       "      <td>78704</td>\n",
       "      <td>02/24/2016</td>\n",
       "      <td>89</td>\n",
       "      <td>2304 S CONGRESS AVE\\nAUSTIN, TX 78704\\n(30.239...</td>\n",
       "      <td>11028089</td>\n",
       "      <td>1st Follow Up to Routine of 50 - 69</td>\n",
       "    </tr>\n",
       "    <tr>\n",
       "      <th>1</th>\n",
       "      <td>Nordstrom's E- Bar</td>\n",
       "      <td>78746</td>\n",
       "      <td>06/21/2016</td>\n",
       "      <td>96</td>\n",
       "      <td>2901 S CAPITAL OF TEXAS HWY NB\\nAUSTIN, TX 787...</td>\n",
       "      <td>2801828</td>\n",
       "      <td>Routine Inspection</td>\n",
       "    </tr>\n",
       "    <tr>\n",
       "      <th>2</th>\n",
       "      <td>North by Northwest Parkside</td>\n",
       "      <td>78749</td>\n",
       "      <td>05/02/2016</td>\n",
       "      <td>80</td>\n",
       "      <td>5701 W SLAUGHTER LN\\nAUSTIN, TX 78749\\n(30.201...</td>\n",
       "      <td>11187773</td>\n",
       "      <td>Routine Inspection</td>\n",
       "    </tr>\n",
       "    <tr>\n",
       "      <th>3</th>\n",
       "      <td>Olive Garden #1046</td>\n",
       "      <td>78704</td>\n",
       "      <td>11/01/2017</td>\n",
       "      <td>88</td>\n",
       "      <td>3940 S LAMAR BLVD SB\\nAUSTIN, TX 78704\\n(30.23...</td>\n",
       "      <td>11441900</td>\n",
       "      <td>Routine Inspection</td>\n",
       "    </tr>\n",
       "    <tr>\n",
       "      <th>4</th>\n",
       "      <td>Pacha</td>\n",
       "      <td>78756</td>\n",
       "      <td>03/10/2015</td>\n",
       "      <td>87</td>\n",
       "      <td>4618 BURNET RD\\nAUSTIN, TX 78756\\n(30.317286, ...</td>\n",
       "      <td>10213212</td>\n",
       "      <td>Routine Inspection</td>\n",
       "    </tr>\n",
       "  </tbody>\n",
       "</table>\n",
       "</div>"
      ],
      "text/plain": [
       "               Restaurant Name Zip Code Inspection Date  Score  \\\n",
       "0            New India Cuisine    78704      02/24/2016     89   \n",
       "1           Nordstrom's E- Bar    78746      06/21/2016     96   \n",
       "2  North by Northwest Parkside    78749      05/02/2016     80   \n",
       "3           Olive Garden #1046    78704      11/01/2017     88   \n",
       "4                        Pacha    78756      03/10/2015     87   \n",
       "\n",
       "                                             Address  Facility ID  \\\n",
       "0  2304 S CONGRESS AVE\\nAUSTIN, TX 78704\\n(30.239...     11028089   \n",
       "1  2901 S CAPITAL OF TEXAS HWY NB\\nAUSTIN, TX 787...      2801828   \n",
       "2  5701 W SLAUGHTER LN\\nAUSTIN, TX 78749\\n(30.201...     11187773   \n",
       "3  3940 S LAMAR BLVD SB\\nAUSTIN, TX 78704\\n(30.23...     11441900   \n",
       "4  4618 BURNET RD\\nAUSTIN, TX 78756\\n(30.317286, ...     10213212   \n",
       "\n",
       "                   Process Description  \n",
       "0  1st Follow Up to Routine of 50 - 69  \n",
       "1                   Routine Inspection  \n",
       "2                   Routine Inspection  \n",
       "3                   Routine Inspection  \n",
       "4                   Routine Inspection  "
      ]
     },
     "execution_count": 5,
     "metadata": {},
     "output_type": "execute_result"
    }
   ],
   "source": [
    "df.head()"
   ]
  },
  {
   "cell_type": "code",
   "execution_count": 6,
   "metadata": {},
   "outputs": [
    {
     "name": "stdout",
     "output_type": "stream",
     "text": [
      "(25112, 7)\n"
     ]
    }
   ],
   "source": [
    "# Print the shape of df\n",
    "print(df.shape)"
   ]
  },
  {
   "cell_type": "code",
   "execution_count": 8,
   "metadata": {},
   "outputs": [
    {
     "data": {
      "text/plain": [
       "Restaurant Name        0\n",
       "Zip Code               0\n",
       "Inspection Date        0\n",
       "Score                  0\n",
       "Address                0\n",
       "Facility ID            0\n",
       "Process Description    0\n",
       "dtype: int64"
      ]
     },
     "execution_count": 8,
     "metadata": {},
     "output_type": "execute_result"
    }
   ],
   "source": [
    "# Print the info of df\n",
    "df.isnull().sum()"
   ]
  },
  {
   "cell_type": "code",
   "execution_count": 9,
   "metadata": {},
   "outputs": [
    {
     "data": {
      "text/html": [
       "<div>\n",
       "<style scoped>\n",
       "    .dataframe tbody tr th:only-of-type {\n",
       "        vertical-align: middle;\n",
       "    }\n",
       "\n",
       "    .dataframe tbody tr th {\n",
       "        vertical-align: top;\n",
       "    }\n",
       "\n",
       "    .dataframe thead th {\n",
       "        text-align: right;\n",
       "    }\n",
       "</style>\n",
       "<table border=\"1\" class=\"dataframe\">\n",
       "  <thead>\n",
       "    <tr style=\"text-align: right;\">\n",
       "      <th></th>\n",
       "      <th>Restaurant Name</th>\n",
       "      <th>Zip Code</th>\n",
       "      <th>Inspection Date</th>\n",
       "      <th>Score</th>\n",
       "    </tr>\n",
       "  </thead>\n",
       "  <tbody>\n",
       "    <tr>\n",
       "      <th>0</th>\n",
       "      <td>New India Cuisine</td>\n",
       "      <td>78704</td>\n",
       "      <td>02/24/2016</td>\n",
       "      <td>89</td>\n",
       "    </tr>\n",
       "    <tr>\n",
       "      <th>1</th>\n",
       "      <td>Nordstrom's E- Bar</td>\n",
       "      <td>78746</td>\n",
       "      <td>06/21/2016</td>\n",
       "      <td>96</td>\n",
       "    </tr>\n",
       "    <tr>\n",
       "      <th>2</th>\n",
       "      <td>North by Northwest Parkside</td>\n",
       "      <td>78749</td>\n",
       "      <td>05/02/2016</td>\n",
       "      <td>80</td>\n",
       "    </tr>\n",
       "    <tr>\n",
       "      <th>3</th>\n",
       "      <td>Olive Garden #1046</td>\n",
       "      <td>78704</td>\n",
       "      <td>11/01/2017</td>\n",
       "      <td>88</td>\n",
       "    </tr>\n",
       "    <tr>\n",
       "      <th>4</th>\n",
       "      <td>Pacha</td>\n",
       "      <td>78756</td>\n",
       "      <td>03/10/2015</td>\n",
       "      <td>87</td>\n",
       "    </tr>\n",
       "  </tbody>\n",
       "</table>\n",
       "</div>"
      ],
      "text/plain": [
       "               Restaurant Name Zip Code Inspection Date  Score\n",
       "0            New India Cuisine    78704      02/24/2016     89\n",
       "1           Nordstrom's E- Bar    78746      06/21/2016     96\n",
       "2  North by Northwest Parkside    78749      05/02/2016     80\n",
       "3           Olive Garden #1046    78704      11/01/2017     88\n",
       "4                        Pacha    78756      03/10/2015     87"
      ]
     },
     "execution_count": 9,
     "metadata": {},
     "output_type": "execute_result"
    }
   ],
   "source": [
    "df.drop(['Address', 'Facility ID', 'Process Description'], axis=1, inplace=True)\n",
    "df.head()"
   ]
  },
  {
   "cell_type": "code",
   "execution_count": 10,
   "metadata": {},
   "outputs": [
    {
     "data": {
      "text/plain": [
       "Index(['Restaurant_Name', 'Zip_Code', 'Inspection_Date', 'Score'], dtype='object')"
      ]
     },
     "execution_count": 10,
     "metadata": {},
     "output_type": "execute_result"
    }
   ],
   "source": [
    "# replace all spaces with underscores in the column names by using the 'str.replace' method\n",
    "df.columns = df.columns.str.replace(' ', '_')\n",
    "df.columns"
   ]
  },
  {
   "cell_type": "code",
   "execution_count": 11,
   "metadata": {},
   "outputs": [
    {
     "data": {
      "text/html": [
       "<div>\n",
       "<style scoped>\n",
       "    .dataframe tbody tr th:only-of-type {\n",
       "        vertical-align: middle;\n",
       "    }\n",
       "\n",
       "    .dataframe tbody tr th {\n",
       "        vertical-align: top;\n",
       "    }\n",
       "\n",
       "    .dataframe thead th {\n",
       "        text-align: right;\n",
       "    }\n",
       "</style>\n",
       "<table border=\"1\" class=\"dataframe\">\n",
       "  <thead>\n",
       "    <tr style=\"text-align: right;\">\n",
       "      <th></th>\n",
       "      <th>Restaurant_Name</th>\n",
       "      <th>Zip_Code</th>\n",
       "      <th>Inspection_Date</th>\n",
       "      <th>Score</th>\n",
       "    </tr>\n",
       "  </thead>\n",
       "  <tbody>\n",
       "    <tr>\n",
       "      <th>4840</th>\n",
       "      <td>South Austin Senior</td>\n",
       "      <td>78704</td>\n",
       "      <td>12/31/2015</td>\n",
       "      <td>100</td>\n",
       "    </tr>\n",
       "    <tr>\n",
       "      <th>6363</th>\n",
       "      <td>Target (Food Service) T-1061</td>\n",
       "      <td>78749</td>\n",
       "      <td>12/30/2016</td>\n",
       "      <td>100</td>\n",
       "    </tr>\n",
       "    <tr>\n",
       "      <th>6962</th>\n",
       "      <td>Target Store   T-1061</td>\n",
       "      <td>78749</td>\n",
       "      <td>12/30/2016</td>\n",
       "      <td>100</td>\n",
       "    </tr>\n",
       "    <tr>\n",
       "      <th>7173</th>\n",
       "      <td>Trinity Child Development Center</td>\n",
       "      <td>78723</td>\n",
       "      <td>12/30/2016</td>\n",
       "      <td>100</td>\n",
       "    </tr>\n",
       "    <tr>\n",
       "      <th>2677</th>\n",
       "      <td>Black Walnut Cafe</td>\n",
       "      <td>78730</td>\n",
       "      <td>12/30/2015</td>\n",
       "      <td>100</td>\n",
       "    </tr>\n",
       "  </tbody>\n",
       "</table>\n",
       "</div>"
      ],
      "text/plain": [
       "                       Restaurant_Name Zip_Code Inspection_Date  Score\n",
       "4840               South Austin Senior    78704      12/31/2015    100\n",
       "6363      Target (Food Service) T-1061    78749      12/30/2016    100\n",
       "6962             Target Store   T-1061    78749      12/30/2016    100\n",
       "7173  Trinity Child Development Center    78723      12/30/2016    100\n",
       "2677                 Black Walnut Cafe    78730      12/30/2015    100"
      ]
     },
     "execution_count": 11,
     "metadata": {},
     "output_type": "execute_result"
    }
   ],
   "source": [
    "df.sort_values(['Score', 'Inspection_Date'], ascending=False).head()"
   ]
  },
  {
   "cell_type": "code",
   "execution_count": 12,
   "metadata": {},
   "outputs": [
    {
     "data": {
      "text/plain": [
       "Restaurant_Name    object\n",
       "Zip_Code           object\n",
       "Inspection_Date    object\n",
       "Score               int64\n",
       "dtype: object"
      ]
     },
     "execution_count": 12,
     "metadata": {},
     "output_type": "execute_result"
    }
   ],
   "source": [
    "df.dtypes"
   ]
  },
  {
   "cell_type": "code",
   "execution_count": 14,
   "metadata": {},
   "outputs": [],
   "source": [
    "from bokeh.plotting import figure\n",
    "from bokeh.io import output_file, show"
   ]
  },
  {
   "cell_type": "code",
   "execution_count": 18,
   "metadata": {},
   "outputs": [
    {
     "data": {
      "text/html": [
       "<div>\n",
       "<style scoped>\n",
       "    .dataframe tbody tr th:only-of-type {\n",
       "        vertical-align: middle;\n",
       "    }\n",
       "\n",
       "    .dataframe tbody tr th {\n",
       "        vertical-align: top;\n",
       "    }\n",
       "\n",
       "    .dataframe thead th {\n",
       "        text-align: right;\n",
       "    }\n",
       "</style>\n",
       "<table border=\"1\" class=\"dataframe\">\n",
       "  <thead>\n",
       "    <tr style=\"text-align: right;\">\n",
       "      <th></th>\n",
       "      <th>Restaurant_Name</th>\n",
       "    </tr>\n",
       "  </thead>\n",
       "  <tbody>\n",
       "    <tr>\n",
       "      <th>0</th>\n",
       "      <td>New India Cuisine</td>\n",
       "    </tr>\n",
       "    <tr>\n",
       "      <th>1</th>\n",
       "      <td>Nordstrom's E- Bar</td>\n",
       "    </tr>\n",
       "    <tr>\n",
       "      <th>3</th>\n",
       "      <td>Olive Garden #1046</td>\n",
       "    </tr>\n",
       "  </tbody>\n",
       "</table>\n",
       "</div>"
      ],
      "text/plain": [
       "      Restaurant_Name\n",
       "0   New India Cuisine\n",
       "1  Nordstrom's E- Bar\n",
       "3  Olive Garden #1046"
      ]
     },
     "execution_count": 18,
     "metadata": {},
     "output_type": "execute_result"
    }
   ],
   "source": [
    "# restaurants with a score greater than 85\n",
    "df[ df['Score'] > 85 ][['Restaurant_Name']].head(3)"
   ]
  },
  {
   "cell_type": "code",
   "execution_count": 19,
   "metadata": {},
   "outputs": [
    {
     "data": {
      "text/html": [
       "<div>\n",
       "<style scoped>\n",
       "    .dataframe tbody tr th:only-of-type {\n",
       "        vertical-align: middle;\n",
       "    }\n",
       "\n",
       "    .dataframe tbody tr th {\n",
       "        vertical-align: top;\n",
       "    }\n",
       "\n",
       "    .dataframe thead th {\n",
       "        text-align: right;\n",
       "    }\n",
       "</style>\n",
       "<table border=\"1\" class=\"dataframe\">\n",
       "  <thead>\n",
       "    <tr style=\"text-align: right;\">\n",
       "      <th></th>\n",
       "      <th>Restaurant_Name</th>\n",
       "    </tr>\n",
       "  </thead>\n",
       "  <tbody>\n",
       "    <tr>\n",
       "      <th>128</th>\n",
       "      <td>Onion Creek Country Club</td>\n",
       "    </tr>\n",
       "    <tr>\n",
       "      <th>257</th>\n",
       "      <td>Omni Austin</td>\n",
       "    </tr>\n",
       "    <tr>\n",
       "      <th>819</th>\n",
       "      <td>New India Cuisine</td>\n",
       "    </tr>\n",
       "  </tbody>\n",
       "</table>\n",
       "</div>"
      ],
      "text/plain": [
       "              Restaurant_Name\n",
       "128  Onion Creek Country Club\n",
       "257               Omni Austin\n",
       "819         New India Cuisine"
      ]
     },
     "execution_count": 19,
     "metadata": {},
     "output_type": "execute_result"
    }
   ],
   "source": [
    "# restaurants with a score less than than 70\n",
    "df[ df['Score'] < 70 ][['Restaurant_Name']].head(3)"
   ]
  },
  {
   "cell_type": "markdown",
   "metadata": {},
   "source": [
    "### More info on mapping utilities\n",
    "\n",
    "https://bokeh.pydata.org/en/latest/docs/user_guide/geo.html\n",
    "\n",
    "https://github.com/pbugnion/gmaps\n",
    "\n",
    "https://bl.ocks.org/mbostock/4060606"
   ]
  },
  {
   "cell_type": "code",
   "execution_count": null,
   "metadata": {},
   "outputs": [],
   "source": []
  }
 ],
 "metadata": {
  "kernelspec": {
   "display_name": "Python 3",
   "language": "python",
   "name": "python3"
  },
  "language_info": {
   "codemirror_mode": {
    "name": "ipython",
    "version": 3
   },
   "file_extension": ".py",
   "mimetype": "text/x-python",
   "name": "python",
   "nbconvert_exporter": "python",
   "pygments_lexer": "ipython3",
   "version": "3.6.3"
  }
 },
 "nbformat": 4,
 "nbformat_minor": 2
}
