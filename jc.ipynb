{
 "cells": [
  {
   "cell_type": "code",
   "execution_count": 19,
   "metadata": {},
   "outputs": [],
   "source": [
    "import requests, pandas, numpy, matplotlib.pyplot\n",
    "from bs4 import BeautifulSoup"
   ]
  },
  {
   "cell_type": "code",
   "execution_count": 20,
   "metadata": {},
   "outputs": [],
   "source": [
    "page = requests.get(\"https://ocrportal.hhs.gov/ocr/breach/breach_report.jsf\")"
   ]
  },
  {
   "cell_type": "code",
   "execution_count": 21,
   "metadata": {},
   "outputs": [
    {
     "data": {
      "text/plain": [
       "200"
      ]
     },
     "execution_count": 21,
     "metadata": {},
     "output_type": "execute_result"
    }
   ],
   "source": [
    "page.status_code"
   ]
  },
  {
   "cell_type": "code",
   "execution_count": 22,
   "metadata": {},
   "outputs": [],
   "source": [
    "soup = BeautifulSoup(page.content, 'html.parser')"
   ]
  },
  {
   "cell_type": "code",
   "execution_count": 30,
   "metadata": {},
   "outputs": [],
   "source": [
    "soup.find_all(role=\"gridcell\")\n",
    "gridCells = soup.find_all(role=\"gridcell\")"
   ]
  },
  {
   "cell_type": "code",
   "execution_count": 24,
   "metadata": {},
   "outputs": [],
   "source": [
    "nameCoveredEntityList = []\n",
    "stateList = []\n",
    "coveredEntityTypeList = []\n",
    "affectIndividualsList = []\n",
    "breachSubmittedDateList = []\n",
    "typeOfBreachList = []\n",
    "locationOfBreachedInformationList = []\n",
    "singleBreachList = []"
   ]
  },
  {
   "cell_type": "code",
   "execution_count": 25,
   "metadata": {},
   "outputs": [],
   "source": [
    "skipTheBoringStuffCounter = 0\n",
    "theGoodStuffCounter = 0"
   ]
  },
  {
   "cell_type": "code",
   "execution_count": 26,
   "metadata": {},
   "outputs": [],
   "source": [
    "for c in gridCells:\n",
    "   if skipTheBoringStuffCounter <=4:\n",
    "       skipTheBoringStuffCounter=skipTheBoringStuffCounter+1\n",
    "   if skipTheBoringStuffCounter >4:\n",
    "       c = c.get_text().strip()\n",
    "   if c!='':\n",
    "       singleBreachList.append(c)\n",
    "       theGoodStuffCounter=theGoodStuffCounter+1\n",
    "   if theGoodStuffCounter == 8:\n",
    "       nameCoveredEntityList.append(singleBreachList[0])\n",
    "       stateList.append(singleBreachList[1])\n",
    "       coveredEntityTypeList.append(singleBreachList[2])\n",
    "       affectIndividualsList.append(singleBreachList[3])\n",
    "       breachSubmittedDateList.append(singleBreachList[4])\n",
    "       typeOfBreachList.append(singleBreachList[5])\n",
    "       locationOfBreachedInformationList.append(singleBreachList[6])\n",
    "       theGoodStuffCounter =0\n",
    "       singleBreachList = []"
   ]
  },
  {
   "cell_type": "code",
   "execution_count": 27,
   "metadata": {},
   "outputs": [
    {
     "data": {
      "text/html": [
       "<div>\n",
       "<style scoped>\n",
       "    .dataframe tbody tr th:only-of-type {\n",
       "        vertical-align: middle;\n",
       "    }\n",
       "\n",
       "    .dataframe tbody tr th {\n",
       "        vertical-align: top;\n",
       "    }\n",
       "\n",
       "    .dataframe thead th {\n",
       "        text-align: right;\n",
       "    }\n",
       "</style>\n",
       "<table border=\"1\" class=\"dataframe\">\n",
       "  <thead>\n",
       "    <tr style=\"text-align: right;\">\n",
       "      <th></th>\n",
       "      <th>Affected Individuals</th>\n",
       "      <th>Breach Date</th>\n",
       "      <th>Breach Type</th>\n",
       "      <th>Company Name</th>\n",
       "      <th>Company Type</th>\n",
       "      <th>Data location</th>\n",
       "      <th>State</th>\n",
       "    </tr>\n",
       "  </thead>\n",
       "  <tbody>\n",
       "    <tr>\n",
       "      <th>0</th>\n",
       "      <td>&lt;td role=\"gridcell\" style=\"width:16px\"&gt;&lt;div cl...</td>\n",
       "      <td>Partners HealthCare System, Inc.</td>\n",
       "      <td>MA</td>\n",
       "      <td>&lt;td colspan=\"4\" role=\"gridcell\"&gt;As required by...</td>\n",
       "      <td>&lt;td colspan=\"4\" role=\"gridcell\"&gt; \n",
       "\t\t\t\t&lt;a class...</td>\n",
       "      <td>Healthcare Provider</td>\n",
       "      <td>&lt;td colspan=\"4\" role=\"gridcell\"&gt;This page list...</td>\n",
       "    </tr>\n",
       "    <tr>\n",
       "      <th>1</th>\n",
       "      <td>No</td>\n",
       "      <td>CarePlus Health Plan [case #HU1800066]</td>\n",
       "      <td>KY</td>\n",
       "      <td>02/05/2018</td>\n",
       "      <td>Desktop Computer</td>\n",
       "      <td>Health Plan</td>\n",
       "      <td>Hacking/IT Incident</td>\n",
       "    </tr>\n",
       "    <tr>\n",
       "      <th>2</th>\n",
       "      <td>No</td>\n",
       "      <td>City of Detroit</td>\n",
       "      <td>MI</td>\n",
       "      <td>02/05/2018</td>\n",
       "      <td>Paper/Films</td>\n",
       "      <td>Healthcare Provider</td>\n",
       "      <td>Unauthorized Access/Disclosure</td>\n",
       "    </tr>\n",
       "    <tr>\n",
       "      <th>3</th>\n",
       "      <td>No</td>\n",
       "      <td>Ron's Pharmacy Services</td>\n",
       "      <td>CA</td>\n",
       "      <td>02/05/2018</td>\n",
       "      <td>Other Portable Electronic Device</td>\n",
       "      <td>Healthcare Provider</td>\n",
       "      <td>Loss</td>\n",
       "    </tr>\n",
       "    <tr>\n",
       "      <th>4</th>\n",
       "      <td>No</td>\n",
       "      <td>Eastern Maine Medical Center</td>\n",
       "      <td>ME</td>\n",
       "      <td>02/02/2018</td>\n",
       "      <td>Email</td>\n",
       "      <td>Healthcare Provider</td>\n",
       "      <td>Hacking/IT Incident</td>\n",
       "    </tr>\n",
       "  </tbody>\n",
       "</table>\n",
       "</div>"
      ],
      "text/plain": [
       "                                Affected Individuals  \\\n",
       "0  <td role=\"gridcell\" style=\"width:16px\"><div cl...   \n",
       "1                                                 No   \n",
       "2                                                 No   \n",
       "3                                                 No   \n",
       "4                                                 No   \n",
       "\n",
       "                              Breach Date Breach Type  \\\n",
       "0        Partners HealthCare System, Inc.          MA   \n",
       "1  CarePlus Health Plan [case #HU1800066]          KY   \n",
       "2                         City of Detroit          MI   \n",
       "3                 Ron's Pharmacy Services          CA   \n",
       "4            Eastern Maine Medical Center          ME   \n",
       "\n",
       "                                        Company Name  \\\n",
       "0  <td colspan=\"4\" role=\"gridcell\">As required by...   \n",
       "1                                         02/05/2018   \n",
       "2                                         02/05/2018   \n",
       "3                                         02/05/2018   \n",
       "4                                         02/02/2018   \n",
       "\n",
       "                                        Company Type        Data location  \\\n",
       "0  <td colspan=\"4\" role=\"gridcell\"> \n",
       "\t\t\t\t<a class...  Healthcare Provider   \n",
       "1                                   Desktop Computer          Health Plan   \n",
       "2                                        Paper/Films  Healthcare Provider   \n",
       "3                   Other Portable Electronic Device  Healthcare Provider   \n",
       "4                                              Email  Healthcare Provider   \n",
       "\n",
       "                                               State  \n",
       "0  <td colspan=\"4\" role=\"gridcell\">This page list...  \n",
       "1                                Hacking/IT Incident  \n",
       "2                     Unauthorized Access/Disclosure  \n",
       "3                                               Loss  \n",
       "4                                Hacking/IT Incident  "
      ]
     },
     "execution_count": 27,
     "metadata": {},
     "output_type": "execute_result"
    }
   ],
   "source": [
    "breachDF = pandas.DataFrame({\n",
    "\"Company Name\":nameCoveredEntityList,\n",
    "\"State\":stateList,\n",
    "\"Company Type\":coveredEntityTypeList,\n",
    "\"Affected Individuals\":affectIndividualsList,\n",
    "\"Breach Date\":breachSubmittedDateList,\n",
    "\"Breach Type\":typeOfBreachList,\n",
    "\"Data location\":locationOfBreachedInformationList\n",
    "})\n",
    "breachDF.head()"
   ]
  },
  {
   "cell_type": "code",
   "execution_count": 28,
   "metadata": {},
   "outputs": [
    {
     "data": {
      "text/plain": [
       "Breach Type\n",
       "Business Associate      3\n",
       "CA                      1\n",
       "Health Plan            13\n",
       "Healthcare Provider    79\n",
       "KY                      1\n",
       "MA                      1\n",
       "ME                      1\n",
       "MI                      1\n",
       "dtype: int64"
      ]
     },
     "execution_count": 28,
     "metadata": {},
     "output_type": "execute_result"
    }
   ],
   "source": [
    "breachDF.groupby('Breach Type').size()"
   ]
  },
  {
   "cell_type": "code",
   "execution_count": 29,
   "metadata": {},
   "outputs": [
    {
     "data": {
      "text/plain": [
       "<matplotlib.axes._subplots.AxesSubplot at 0x7f1f2433db38>"
      ]
     },
     "execution_count": 29,
     "metadata": {},
     "output_type": "execute_result"
    },
    {
     "data": {
      "image/png": "[encoded data removed]",
      "text/plain": [
       "<matplotlib.figure.Figure at 0x7f1f24bc7c18>"
      ]
     },
     "metadata": {},
     "output_type": "display_data"
    }
   ],
   "source": [
    "%matplotlib inline\n",
    "breachDist = breachDF.groupby('Breach Type').size()\n",
    "breachDist.plot(kind='bar')"
   ]
  }
 ],
 "metadata": {
  "kernelspec": {
   "display_name": "Python 3",
   "language": "python",
   "name": "python3"
  },
  "language_info": {
   "codemirror_mode": {
    "name": "ipython",
    "version": 3
   },
   "file_extension": ".py",
   "mimetype": "text/x-python",
   "name": "python",
   "nbconvert_exporter": "python",
   "pygments_lexer": "ipython3",
   "version": "3.6.3"
  }
 },
 "nbformat": 4,
 "nbformat_minor": 2
}
